{
  "nbformat": 4,
  "nbformat_minor": 0,
  "metadata": {
    "colab": {
      "name": "All correct games reviews.ipynb",
      "provenance": [],
      "collapsed_sections": [
        "V-fc3Mvx8lB5"
      ]
    },
    "kernelspec": {
      "display_name": "Python 3",
      "name": "python3"
    },
    "language_info": {
      "name": "python"
    }
  },
  "cells": [
    {
      "cell_type": "markdown",
      "metadata": {
        "id": "V-fc3Mvx8lB5"
      },
      "source": [
        "##Goals\n",
        "###For company\n",
        "Increase localization quality and set priorities for improvements based on app reviews.\n",
        "###For Data team\n",
        "Analyze apps reviews about localization quality on marketplaces like AppStore /GooglePlay / Steam"
      ]
    },
    {
      "cell_type": "markdown",
      "metadata": {
        "id": "GnDj6vtm9Bnl"
      },
      "source": [
        "##Tasks"
      ]
    },
    {
      "cell_type": "markdown",
      "metadata": {
        "id": "KgbVgB6k9GQt"
      },
      "source": [
        "- Build an algorithm to determine whether a review is about localization or not.\n",
        "- Build an algorithm to rank localization reviews from 1 to 5, where 1— very bad review and 5 — very good review.\n",
        "- Build a dashboard for a business team.   \n",
        "Include Localization reviews structure and dynamics based on ranking. \n",
        "Most frequent reasons for negative reviews"
      ]
    },
    {
      "cell_type": "code",
      "metadata": {
        "id": "jqlRwAw4pKMt"
      },
      "source": [
        "import pandas as pd\n",
        "import numpy as np\n",
        "import re\n",
        "import unicodedata"
      ],
      "execution_count": null,
      "outputs": []
    },
    {
      "cell_type": "code",
      "metadata": {
        "colab": {
          "base_uri": "https://localhost:8080/"
        },
        "id": "dL7bZN2KwP1M",
        "outputId": "7febee85-ea65-4640-b208-864d86318ccb"
      },
      "source": [
        "from google.colab import drive\n",
        "drive.mount('/content/drive')"
      ],
      "execution_count": null,
      "outputs": [
        {
          "output_type": "stream",
          "text": [
            "Mounted at /content/drive\n"
          ],
          "name": "stdout"
        }
      ]
    },
    {
      "cell_type": "code",
      "metadata": {
        "id": "CS1fjB-IwYwT"
      },
      "source": [
        "stats=pd.read_excel('/content/drive/MyDrive/data/!stats.xlsx')\n",
        "df1=pd.read_excel('/content/drive/MyDrive/data/REVIEWS_1.xlsx')\n",
        "df2=pd.read_excel('/content/drive/MyDrive/data/REVIEWS_2.xlsx')"
      ],
      "execution_count": null,
      "outputs": []
    },
    {
      "cell_type": "code",
      "metadata": {
        "id": "pAfLY3xtyXm7"
      },
      "source": [
        "def information(df):\n",
        "  output=[]\n",
        "  for col in df.columns:\n",
        "    nonnull=len(df)-np.sum(pd.isna(df[col]))\n",
        "    unique=df[col].nunique()\n",
        "    coltype=str(df[col].dtype)\n",
        "    output.append([col,nonnull,unique,coltype])\n",
        "  output=pd.DataFrame(output)\n",
        "  output.columns=['colName','non-null values', 'unique', 'dtype']\n",
        "  return output"
      ],
      "execution_count": null,
      "outputs": []
    },
    {
      "cell_type": "code",
      "metadata": {
        "colab": {
          "base_uri": "https://localhost:8080/",
          "height": 263
        },
        "id": "NpoOeHOG7wDZ",
        "outputId": "0eda5610-65a8-48d6-8f51-08e3ce0c0a89"
      },
      "source": [
        "information(stats)"
      ],
      "execution_count": null,
      "outputs": [
        {
          "output_type": "execute_result",
          "data": {
            "text/html": [
              "<div>\n",
              "<style scoped>\n",
              "    .dataframe tbody tr th:only-of-type {\n",
              "        vertical-align: middle;\n",
              "    }\n",
              "\n",
              "    .dataframe tbody tr th {\n",
              "        vertical-align: top;\n",
              "    }\n",
              "\n",
              "    .dataframe thead th {\n",
              "        text-align: right;\n",
              "    }\n",
              "</style>\n",
              "<table border=\"1\" class=\"dataframe\">\n",
              "  <thead>\n",
              "    <tr style=\"text-align: right;\">\n",
              "      <th></th>\n",
              "      <th>colName</th>\n",
              "      <th>non-null values</th>\n",
              "      <th>unique</th>\n",
              "      <th>dtype</th>\n",
              "    </tr>\n",
              "  </thead>\n",
              "  <tbody>\n",
              "    <tr>\n",
              "      <th>0</th>\n",
              "      <td>ID</td>\n",
              "      <td>283</td>\n",
              "      <td>283</td>\n",
              "      <td>object</td>\n",
              "    </tr>\n",
              "    <tr>\n",
              "      <th>1</th>\n",
              "      <td>n in file1</td>\n",
              "      <td>283</td>\n",
              "      <td>47</td>\n",
              "      <td>int64</td>\n",
              "    </tr>\n",
              "    <tr>\n",
              "      <th>2</th>\n",
              "      <td>n in file2</td>\n",
              "      <td>283</td>\n",
              "      <td>210</td>\n",
              "      <td>int64</td>\n",
              "    </tr>\n",
              "    <tr>\n",
              "      <th>3</th>\n",
              "      <td>total</td>\n",
              "      <td>283</td>\n",
              "      <td>246</td>\n",
              "      <td>int64</td>\n",
              "    </tr>\n",
              "    <tr>\n",
              "      <th>4</th>\n",
              "      <td>Unnamed: 4</td>\n",
              "      <td>0</td>\n",
              "      <td>0</td>\n",
              "      <td>float64</td>\n",
              "    </tr>\n",
              "    <tr>\n",
              "      <th>5</th>\n",
              "      <td>Unnamed: 5</td>\n",
              "      <td>0</td>\n",
              "      <td>0</td>\n",
              "      <td>float64</td>\n",
              "    </tr>\n",
              "    <tr>\n",
              "      <th>6</th>\n",
              "      <td>Text reviews of PC titles are generally larger...</td>\n",
              "      <td>2</td>\n",
              "      <td>2</td>\n",
              "      <td>object</td>\n",
              "    </tr>\n",
              "  </tbody>\n",
              "</table>\n",
              "</div>"
            ],
            "text/plain": [
              "                                             colName  ...    dtype\n",
              "0                                                 ID  ...   object\n",
              "1                                         n in file1  ...    int64\n",
              "2                                         n in file2  ...    int64\n",
              "3                                              total  ...    int64\n",
              "4                                         Unnamed: 4  ...  float64\n",
              "5                                         Unnamed: 5  ...  float64\n",
              "6  Text reviews of PC titles are generally larger...  ...   object\n",
              "\n",
              "[7 rows x 4 columns]"
            ]
          },
          "metadata": {
            "tags": []
          },
          "execution_count": 6
        }
      ]
    },
    {
      "cell_type": "code",
      "metadata": {
        "colab": {
          "base_uri": "https://localhost:8080/",
          "height": 141
        },
        "id": "o5mSVAaY7z8Y",
        "outputId": "6604f4c7-d0e1-4097-e3ce-504c8af736c6"
      },
      "source": [
        "information(df1)"
      ],
      "execution_count": null,
      "outputs": [
        {
          "output_type": "execute_result",
          "data": {
            "text/html": [
              "<div>\n",
              "<style scoped>\n",
              "    .dataframe tbody tr th:only-of-type {\n",
              "        vertical-align: middle;\n",
              "    }\n",
              "\n",
              "    .dataframe tbody tr th {\n",
              "        vertical-align: top;\n",
              "    }\n",
              "\n",
              "    .dataframe thead th {\n",
              "        text-align: right;\n",
              "    }\n",
              "</style>\n",
              "<table border=\"1\" class=\"dataframe\">\n",
              "  <thead>\n",
              "    <tr style=\"text-align: right;\">\n",
              "      <th></th>\n",
              "      <th>colName</th>\n",
              "      <th>non-null values</th>\n",
              "      <th>unique</th>\n",
              "      <th>dtype</th>\n",
              "    </tr>\n",
              "  </thead>\n",
              "  <tbody>\n",
              "    <tr>\n",
              "      <th>0</th>\n",
              "      <td>ID</td>\n",
              "      <td>913763</td>\n",
              "      <td>38</td>\n",
              "      <td>object</td>\n",
              "    </tr>\n",
              "    <tr>\n",
              "      <th>1</th>\n",
              "      <td>Score/Recommendation</td>\n",
              "      <td>913763</td>\n",
              "      <td>6</td>\n",
              "      <td>int64</td>\n",
              "    </tr>\n",
              "    <tr>\n",
              "      <th>2</th>\n",
              "      <td>Text</td>\n",
              "      <td>913618</td>\n",
              "      <td>730263</td>\n",
              "      <td>object</td>\n",
              "    </tr>\n",
              "  </tbody>\n",
              "</table>\n",
              "</div>"
            ],
            "text/plain": [
              "                colName  non-null values  unique   dtype\n",
              "0                    ID           913763      38  object\n",
              "1  Score/Recommendation           913763       6   int64\n",
              "2                  Text           913618  730263  object"
            ]
          },
          "metadata": {
            "tags": []
          },
          "execution_count": 7
        }
      ]
    },
    {
      "cell_type": "code",
      "metadata": {
        "colab": {
          "base_uri": "https://localhost:8080/",
          "height": 141
        },
        "id": "8ziRPEG770kY",
        "outputId": "841cefbe-5286-4067-de2f-1cf2c88099ee"
      },
      "source": [
        "information(df2)"
      ],
      "execution_count": null,
      "outputs": [
        {
          "output_type": "execute_result",
          "data": {
            "text/html": [
              "<div>\n",
              "<style scoped>\n",
              "    .dataframe tbody tr th:only-of-type {\n",
              "        vertical-align: middle;\n",
              "    }\n",
              "\n",
              "    .dataframe tbody tr th {\n",
              "        vertical-align: top;\n",
              "    }\n",
              "\n",
              "    .dataframe thead th {\n",
              "        text-align: right;\n",
              "    }\n",
              "</style>\n",
              "<table border=\"1\" class=\"dataframe\">\n",
              "  <thead>\n",
              "    <tr style=\"text-align: right;\">\n",
              "      <th></th>\n",
              "      <th>colName</th>\n",
              "      <th>non-null values</th>\n",
              "      <th>unique</th>\n",
              "      <th>dtype</th>\n",
              "    </tr>\n",
              "  </thead>\n",
              "  <tbody>\n",
              "    <tr>\n",
              "      <th>0</th>\n",
              "      <td>ID</td>\n",
              "      <td>956012</td>\n",
              "      <td>94</td>\n",
              "      <td>object</td>\n",
              "    </tr>\n",
              "    <tr>\n",
              "      <th>1</th>\n",
              "      <td>Score/Recommendation</td>\n",
              "      <td>956012</td>\n",
              "      <td>6</td>\n",
              "      <td>int64</td>\n",
              "    </tr>\n",
              "    <tr>\n",
              "      <th>2</th>\n",
              "      <td>Text</td>\n",
              "      <td>955940</td>\n",
              "      <td>680589</td>\n",
              "      <td>object</td>\n",
              "    </tr>\n",
              "  </tbody>\n",
              "</table>\n",
              "</div>"
            ],
            "text/plain": [
              "                colName  non-null values  unique   dtype\n",
              "0                    ID           956012      94  object\n",
              "1  Score/Recommendation           956012       6   int64\n",
              "2                  Text           955940  680589  object"
            ]
          },
          "metadata": {
            "tags": []
          },
          "execution_count": 8
        }
      ]
    },
    {
      "cell_type": "code",
      "metadata": {
        "colab": {
          "base_uri": "https://localhost:8080/",
          "height": 202
        },
        "id": "9tN9B5p1_OEx",
        "outputId": "b0231be3-250c-48d9-ba47-1da4273cb453"
      },
      "source": [
        "df1.head()"
      ],
      "execution_count": null,
      "outputs": [
        {
          "output_type": "execute_result",
          "data": {
            "text/html": [
              "<div>\n",
              "<style scoped>\n",
              "    .dataframe tbody tr th:only-of-type {\n",
              "        vertical-align: middle;\n",
              "    }\n",
              "\n",
              "    .dataframe tbody tr th {\n",
              "        vertical-align: top;\n",
              "    }\n",
              "\n",
              "    .dataframe thead th {\n",
              "        text-align: right;\n",
              "    }\n",
              "</style>\n",
              "<table border=\"1\" class=\"dataframe\">\n",
              "  <thead>\n",
              "    <tr style=\"text-align: right;\">\n",
              "      <th></th>\n",
              "      <th>ID</th>\n",
              "      <th>Score/Recommendation</th>\n",
              "      <th>Text</th>\n",
              "    </tr>\n",
              "  </thead>\n",
              "  <tbody>\n",
              "    <tr>\n",
              "      <th>0</th>\n",
              "      <td>title777</td>\n",
              "      <td>4</td>\n",
              "      <td>Velmi návyková hra, skvěle zpracovaná. Jen ško...</td>\n",
              "    </tr>\n",
              "    <tr>\n",
              "      <th>1</th>\n",
              "      <td>title777</td>\n",
              "      <td>4</td>\n",
              "      <td>Hra hezká, vadí mi, že třeba přes noc se nepln...</td>\n",
              "    </tr>\n",
              "    <tr>\n",
              "      <th>2</th>\n",
              "      <td>title777</td>\n",
              "      <td>5</td>\n",
              "      <td>Cool</td>\n",
              "    </tr>\n",
              "    <tr>\n",
              "      <th>3</th>\n",
              "      <td>title777</td>\n",
              "      <td>5</td>\n",
              "      <td>Suprová hra.</td>\n",
              "    </tr>\n",
              "    <tr>\n",
              "      <th>4</th>\n",
              "      <td>title777</td>\n",
              "      <td>5</td>\n",
              "      <td>⚽️🏀🏈⚾️🥎去浏览器打开📲87ṚмＢ,C☻м📲华人最大娱乐站，开户免费送现金100块‼️-...</td>\n",
              "    </tr>\n",
              "  </tbody>\n",
              "</table>\n",
              "</div>"
            ],
            "text/plain": [
              "         ID  ...                                               Text\n",
              "0  title777  ...  Velmi návyková hra, skvěle zpracovaná. Jen ško...\n",
              "1  title777  ...  Hra hezká, vadí mi, že třeba přes noc se nepln...\n",
              "2  title777  ...                                               Cool\n",
              "3  title777  ...                                       Suprová hra.\n",
              "4  title777  ...  ⚽️🏀🏈⚾️🥎去浏览器打开📲87ṚмＢ,C☻м📲华人最大娱乐站，开户免费送现金100块‼️-...\n",
              "\n",
              "[5 rows x 3 columns]"
            ]
          },
          "metadata": {
            "tags": []
          },
          "execution_count": 9
        }
      ]
    },
    {
      "cell_type": "code",
      "metadata": {
        "colab": {
          "base_uri": "https://localhost:8080/",
          "height": 202
        },
        "id": "ROt81nCz_oim",
        "outputId": "15fe2d14-5bc0-4cdc-ff38-679eeae43ad5"
      },
      "source": [
        "df2.head()"
      ],
      "execution_count": null,
      "outputs": [
        {
          "output_type": "execute_result",
          "data": {
            "text/html": [
              "<div>\n",
              "<style scoped>\n",
              "    .dataframe tbody tr th:only-of-type {\n",
              "        vertical-align: middle;\n",
              "    }\n",
              "\n",
              "    .dataframe tbody tr th {\n",
              "        vertical-align: top;\n",
              "    }\n",
              "\n",
              "    .dataframe thead th {\n",
              "        text-align: right;\n",
              "    }\n",
              "</style>\n",
              "<table border=\"1\" class=\"dataframe\">\n",
              "  <thead>\n",
              "    <tr style=\"text-align: right;\">\n",
              "      <th></th>\n",
              "      <th>ID</th>\n",
              "      <th>Score/Recommendation</th>\n",
              "      <th>Text</th>\n",
              "    </tr>\n",
              "  </thead>\n",
              "  <tbody>\n",
              "    <tr>\n",
              "      <th>0</th>\n",
              "      <td>title776</td>\n",
              "      <td>1</td>\n",
              "      <td>العبه روعه تسليت وقت😘</td>\n",
              "    </tr>\n",
              "    <tr>\n",
              "      <th>1</th>\n",
              "      <td>title776</td>\n",
              "      <td>5</td>\n",
              "      <td>تطبيق جميلة</td>\n",
              "    </tr>\n",
              "    <tr>\n",
              "      <th>2</th>\n",
              "      <td>title776</td>\n",
              "      <td>5</td>\n",
              "      <td>واو</td>\n",
              "    </tr>\n",
              "    <tr>\n",
              "      <th>3</th>\n",
              "      <td>title776</td>\n",
              "      <td>5</td>\n",
              "      <td>حلوة</td>\n",
              "    </tr>\n",
              "    <tr>\n",
              "      <th>4</th>\n",
              "      <td>title776</td>\n",
              "      <td>5</td>\n",
              "      <td>Gg</td>\n",
              "    </tr>\n",
              "  </tbody>\n",
              "</table>\n",
              "</div>"
            ],
            "text/plain": [
              "         ID  Score/Recommendation                   Text\n",
              "0  title776                     1  العبه روعه تسليت وقت😘\n",
              "1  title776                     5            تطبيق جميلة\n",
              "2  title776                     5                    واو\n",
              "3  title776                     5                   حلوة\n",
              "4  title776                     5                     Gg"
            ]
          },
          "metadata": {
            "tags": []
          },
          "execution_count": 10
        }
      ]
    },
    {
      "cell_type": "code",
      "metadata": {
        "id": "Ic6i6dmuXEMs"
      },
      "source": [
        "def filter_emoji(text):\n",
        "    \n",
        "    try:\n",
        "        # Wide UCS-4 build\n",
        "        myre = re.compile(u'['\n",
        "                          u'\\U0001F300-\\U0001F64F'\n",
        "                          u'\\U0001F680-\\U0001F6FF'\n",
        "                          u'\\u2600-\\u2B55'\n",
        "                          u'\\u23cf'\n",
        "                          u'\\u23e9'\n",
        "                          u'\\u231a'\n",
        "                          u'\\u3030'\n",
        "                          u'\\ufe0f'\n",
        "                          u\"\\U0001F600-\\U0001F64F\"  # emoticons\n",
        "                           u\"\\U0001F300-\\U0001F5FF\"  # symbols & pictographs\n",
        "                            u'\\U00010000-\\U0010ffff'\n",
        "                           u'\\U0001F1E0-\\U0001F1FF'  # flags (iOS)\n",
        "                           u'\\U00002702-\\U000027B0]+',     \n",
        "                          re.UNICODE)\n",
        "    except re.error:\n",
        "        # Narrow UCS-2 build\n",
        "        print('ee')\n",
        "        myre =   re.compile(u'('\n",
        "                                  u'\\ud83c[\\udf00-\\udfff]|'\n",
        "                                  u'\\ud83d[\\udc00-\\ude4f]|'\n",
        "                                  u'\\uD83D[\\uDE80-\\uDEFF]|'\n",
        "                                  u\"(\\ud83d[\\ude00-\\ude4f])|\"  # emoticon\n",
        "                                  u'[\\u2600-\\u2B55]|'\n",
        "                                  u'[\\u23cf]|'\n",
        "                                  u'[\\u1f918]|'\n",
        "                                    u'[\\u23e9]|'\n",
        "                                  u'[\\u231a]|'\n",
        "                                  u'[\\u3030]|'\n",
        "                                  u'[\\ufe0f]|'\n",
        "                                  u'\\uD83D[\\uDE00-\\uDE4F]|'\n",
        "                                  u'\\uD83C[\\uDDE0-\\uDDFF]|'\n",
        "                                u'[\\u2702-\\u27B0]|'\n",
        "                                  u'\\uD83D[\\uDC00-\\uDDFF])+',\n",
        "                                  re.UNICODE)\n",
        "    return(myre.sub(' ', text))\n",
        "    #print(text)"
      ],
      "execution_count": null,
      "outputs": []
    },
    {
      "cell_type": "code",
      "metadata": {
        "id": "d0l7_LUYdeQf"
      },
      "source": [
        "df1['Text']=df1['Text'].astype(str)\n",
        "df1['filtered']=df1['Text'].apply(lambda x:filter_emoji(x))"
      ],
      "execution_count": null,
      "outputs": []
    },
    {
      "cell_type": "code",
      "metadata": {
        "colab": {
          "base_uri": "https://localhost:8080/",
          "height": 219
        },
        "id": "_H2kuUbzAYEx",
        "outputId": "6c44d854-454c-4430-f4fe-29d5bdf44c4b"
      },
      "source": [
        "df1.head()"
      ],
      "execution_count": null,
      "outputs": [
        {
          "output_type": "execute_result",
          "data": {
            "text/html": [
              "<div>\n",
              "<style scoped>\n",
              "    .dataframe tbody tr th:only-of-type {\n",
              "        vertical-align: middle;\n",
              "    }\n",
              "\n",
              "    .dataframe tbody tr th {\n",
              "        vertical-align: top;\n",
              "    }\n",
              "\n",
              "    .dataframe thead th {\n",
              "        text-align: right;\n",
              "    }\n",
              "</style>\n",
              "<table border=\"1\" class=\"dataframe\">\n",
              "  <thead>\n",
              "    <tr style=\"text-align: right;\">\n",
              "      <th></th>\n",
              "      <th>ID</th>\n",
              "      <th>Score/Recommendation</th>\n",
              "      <th>Text</th>\n",
              "      <th>filtered</th>\n",
              "    </tr>\n",
              "  </thead>\n",
              "  <tbody>\n",
              "    <tr>\n",
              "      <th>0</th>\n",
              "      <td>title777</td>\n",
              "      <td>4</td>\n",
              "      <td>Velmi návyková hra, skvěle zpracovaná. Jen ško...</td>\n",
              "      <td>Velmi návyková hra, skvěle zpracovaná. Jen ško...</td>\n",
              "    </tr>\n",
              "    <tr>\n",
              "      <th>1</th>\n",
              "      <td>title777</td>\n",
              "      <td>4</td>\n",
              "      <td>Hra hezká, vadí mi, že třeba přes noc se nepln...</td>\n",
              "      <td>Hra hezká, vadí mi, že třeba přes noc se nepln...</td>\n",
              "    </tr>\n",
              "    <tr>\n",
              "      <th>2</th>\n",
              "      <td>title777</td>\n",
              "      <td>5</td>\n",
              "      <td>Cool</td>\n",
              "      <td>Cool</td>\n",
              "    </tr>\n",
              "    <tr>\n",
              "      <th>3</th>\n",
              "      <td>title777</td>\n",
              "      <td>5</td>\n",
              "      <td>Suprová hra.</td>\n",
              "      <td>Suprová hra.</td>\n",
              "    </tr>\n",
              "    <tr>\n",
              "      <th>4</th>\n",
              "      <td>title777</td>\n",
              "      <td>5</td>\n",
              "      <td>⚽️🏀🏈⚾️🥎去浏览器打开📲87ṚмＢ,C☻м📲华人最大娱乐站，开户免费送现金100块‼️-...</td>\n",
              "      <td>去浏览器打开 87ṚмＢ,C м 华人最大娱乐站，开户免费送现金100块‼ --国际监管，...</td>\n",
              "    </tr>\n",
              "  </tbody>\n",
              "</table>\n",
              "</div>"
            ],
            "text/plain": [
              "         ID  ...                                           filtered\n",
              "0  title777  ...  Velmi návyková hra, skvěle zpracovaná. Jen ško...\n",
              "1  title777  ...  Hra hezká, vadí mi, že třeba přes noc se nepln...\n",
              "2  title777  ...                                               Cool\n",
              "3  title777  ...                                       Suprová hra.\n",
              "4  title777  ...   去浏览器打开 87ṚмＢ,C м 华人最大娱乐站，开户免费送现金100块‼ --国际监管，...\n",
              "\n",
              "[5 rows x 4 columns]"
            ]
          },
          "metadata": {
            "tags": []
          },
          "execution_count": 13
        }
      ]
    },
    {
      "cell_type": "code",
      "metadata": {
        "colab": {
          "base_uri": "https://localhost:8080/",
          "height": 202
        },
        "id": "VWUykNRfiryY",
        "outputId": "707eb79f-111b-4e3a-990f-765d40117e18"
      },
      "source": [
        "df2['Text']=df2['Text'].astype(str)\n",
        "df2['filtered']=df2['Text'].apply(lambda x:filter_emoji(x))\n",
        "df2.head()"
      ],
      "execution_count": null,
      "outputs": [
        {
          "output_type": "execute_result",
          "data": {
            "text/html": [
              "<div>\n",
              "<style scoped>\n",
              "    .dataframe tbody tr th:only-of-type {\n",
              "        vertical-align: middle;\n",
              "    }\n",
              "\n",
              "    .dataframe tbody tr th {\n",
              "        vertical-align: top;\n",
              "    }\n",
              "\n",
              "    .dataframe thead th {\n",
              "        text-align: right;\n",
              "    }\n",
              "</style>\n",
              "<table border=\"1\" class=\"dataframe\">\n",
              "  <thead>\n",
              "    <tr style=\"text-align: right;\">\n",
              "      <th></th>\n",
              "      <th>ID</th>\n",
              "      <th>Score/Recommendation</th>\n",
              "      <th>Text</th>\n",
              "      <th>filtered</th>\n",
              "    </tr>\n",
              "  </thead>\n",
              "  <tbody>\n",
              "    <tr>\n",
              "      <th>0</th>\n",
              "      <td>title776</td>\n",
              "      <td>1</td>\n",
              "      <td>العبه روعه تسليت وقت😘</td>\n",
              "      <td>العبه روعه تسليت وقت</td>\n",
              "    </tr>\n",
              "    <tr>\n",
              "      <th>1</th>\n",
              "      <td>title776</td>\n",
              "      <td>5</td>\n",
              "      <td>تطبيق جميلة</td>\n",
              "      <td>تطبيق جميلة</td>\n",
              "    </tr>\n",
              "    <tr>\n",
              "      <th>2</th>\n",
              "      <td>title776</td>\n",
              "      <td>5</td>\n",
              "      <td>واو</td>\n",
              "      <td>واو</td>\n",
              "    </tr>\n",
              "    <tr>\n",
              "      <th>3</th>\n",
              "      <td>title776</td>\n",
              "      <td>5</td>\n",
              "      <td>حلوة</td>\n",
              "      <td>حلوة</td>\n",
              "    </tr>\n",
              "    <tr>\n",
              "      <th>4</th>\n",
              "      <td>title776</td>\n",
              "      <td>5</td>\n",
              "      <td>Gg</td>\n",
              "      <td>Gg</td>\n",
              "    </tr>\n",
              "  </tbody>\n",
              "</table>\n",
              "</div>"
            ],
            "text/plain": [
              "         ID  Score/Recommendation                   Text               filtered\n",
              "0  title776                     1  العبه روعه تسليت وقت😘  العبه روعه تسليت وقت \n",
              "1  title776                     5            تطبيق جميلة            تطبيق جميلة\n",
              "2  title776                     5                    واو                    واو\n",
              "3  title776                     5                   حلوة                   حلوة\n",
              "4  title776                     5                     Gg                     Gg"
            ]
          },
          "metadata": {
            "tags": []
          },
          "execution_count": 14
        }
      ]
    },
    {
      "cell_type": "code",
      "metadata": {
        "id": "pFZniLSxC6AF"
      },
      "source": [
        "keywords=pd.read_excel('/content/drive/MyDrive/data/Keywords.xlsx')"
      ],
      "execution_count": null,
      "outputs": []
    },
    {
      "cell_type": "code",
      "metadata": {
        "colab": {
          "base_uri": "https://localhost:8080/",
          "height": 202
        },
        "id": "poQG4SWJE3UK",
        "outputId": "90afb2a6-6765-4e58-9735-eac1156dc2dd"
      },
      "source": [
        "keywords.head()"
      ],
      "execution_count": null,
      "outputs": [
        {
          "output_type": "execute_result",
          "data": {
            "text/html": [
              "<div>\n",
              "<style scoped>\n",
              "    .dataframe tbody tr th:only-of-type {\n",
              "        vertical-align: middle;\n",
              "    }\n",
              "\n",
              "    .dataframe tbody tr th {\n",
              "        vertical-align: top;\n",
              "    }\n",
              "\n",
              "    .dataframe thead th {\n",
              "        text-align: right;\n",
              "    }\n",
              "</style>\n",
              "<table border=\"1\" class=\"dataframe\">\n",
              "  <thead>\n",
              "    <tr style=\"text-align: right;\">\n",
              "      <th></th>\n",
              "      <th>Language combination</th>\n",
              "      <th>\"Translation\"</th>\n",
              "      <th>\"Language\"</th>\n",
              "      <th>\"Localization\"</th>\n",
              "      <th>\"English\"</th>\n",
              "      <th>Language</th>\n",
              "      <th>Unnamed: 6</th>\n",
              "      <th>ISO 639-1</th>\n",
              "      <th>ISO 3166-1-alpha-2</th>\n",
              "      <th>Unnamed: 9</th>\n",
              "    </tr>\n",
              "  </thead>\n",
              "  <tbody>\n",
              "    <tr>\n",
              "      <th>0</th>\n",
              "      <td>English - French</td>\n",
              "      <td>Traduction</td>\n",
              "      <td>la langue</td>\n",
              "      <td>localisation</td>\n",
              "      <td>anglais</td>\n",
              "      <td>Français</td>\n",
              "      <td>NaN</td>\n",
              "      <td>FR</td>\n",
              "      <td>FR</td>\n",
              "      <td>NaN</td>\n",
              "    </tr>\n",
              "    <tr>\n",
              "      <th>1</th>\n",
              "      <td>English - German</td>\n",
              "      <td>Übersetzung</td>\n",
              "      <td>Sprache</td>\n",
              "      <td>Lokalisierung</td>\n",
              "      <td>Englisch</td>\n",
              "      <td>Deutsch</td>\n",
              "      <td>NaN</td>\n",
              "      <td>DE</td>\n",
              "      <td>DE</td>\n",
              "      <td>NaN</td>\n",
              "    </tr>\n",
              "    <tr>\n",
              "      <th>2</th>\n",
              "      <td>English - Italian</td>\n",
              "      <td>traduzione</td>\n",
              "      <td>lingua</td>\n",
              "      <td>localizzazione</td>\n",
              "      <td>inglese</td>\n",
              "      <td>Italiano</td>\n",
              "      <td>NaN</td>\n",
              "      <td>IT</td>\n",
              "      <td>IT</td>\n",
              "      <td>NaN</td>\n",
              "    </tr>\n",
              "    <tr>\n",
              "      <th>3</th>\n",
              "      <td>English - Spanish</td>\n",
              "      <td>traducción</td>\n",
              "      <td>idioma</td>\n",
              "      <td>localización</td>\n",
              "      <td>inglés</td>\n",
              "      <td>español</td>\n",
              "      <td>NaN</td>\n",
              "      <td>ES</td>\n",
              "      <td>ES</td>\n",
              "      <td>NaN</td>\n",
              "    </tr>\n",
              "    <tr>\n",
              "      <th>4</th>\n",
              "      <td>English - Chinese Simplified</td>\n",
              "      <td>翻译</td>\n",
              "      <td>语言</td>\n",
              "      <td>本土化</td>\n",
              "      <td>英语</td>\n",
              "      <td>中国</td>\n",
              "      <td>NaN</td>\n",
              "      <td>ZH</td>\n",
              "      <td>CN</td>\n",
              "      <td>NaN</td>\n",
              "    </tr>\n",
              "  </tbody>\n",
              "</table>\n",
              "</div>"
            ],
            "text/plain": [
              "           Language combination \"Translation\"  ... ISO 3166-1-alpha-2 Unnamed: 9\n",
              "0              English - French    Traduction  ...                 FR        NaN\n",
              "1              English - German   Übersetzung  ...                 DE        NaN\n",
              "2             English - Italian    traduzione  ...                 IT        NaN\n",
              "3             English - Spanish    traducción  ...                 ES        NaN\n",
              "4  English - Chinese Simplified            翻译  ...                 CN        NaN\n",
              "\n",
              "[5 rows x 10 columns]"
            ]
          },
          "metadata": {
            "tags": []
          },
          "execution_count": 17
        }
      ]
    },
    {
      "cell_type": "code",
      "metadata": {
        "colab": {
          "base_uri": "https://localhost:8080/"
        },
        "id": "t-Gs7rRjFFBE",
        "outputId": "d93448be-96bd-4cd7-b80d-361420444a90"
      },
      "source": [
        "keywords.columns"
      ],
      "execution_count": null,
      "outputs": [
        {
          "output_type": "execute_result",
          "data": {
            "text/plain": [
              "Index(['Language combination', '\"Translation\"', '\"Language\"', '\"Localization\"',\n",
              "       '\"English\"', 'Language', 'Unnamed: 6', 'ISO 639-1',\n",
              "       'ISO 3166-1-alpha-2', 'Unnamed: 9'],\n",
              "      dtype='object')"
            ]
          },
          "metadata": {
            "tags": []
          },
          "execution_count": 18
        }
      ]
    },
    {
      "cell_type": "code",
      "metadata": {
        "id": "8yNp-fFyYPoe"
      },
      "source": [
        "for col in ['Language combination', '\"Translation\"', '\"Language\"', '\"Localization\"',\n",
        "       '\"English\"', 'Language', 'ISO 639-1',\n",
        "       'ISO 3166-1-alpha-2']:\n",
        "  keywords[col]=keywords[col].str.casefold()"
      ],
      "execution_count": null,
      "outputs": []
    },
    {
      "cell_type": "code",
      "metadata": {
        "colab": {
          "base_uri": "https://localhost:8080/",
          "height": 202
        },
        "id": "IW3Z9BfZ-e7B",
        "outputId": "6e452ebc-46f2-46bd-db24-ec1d967f8e70"
      },
      "source": [
        "keywords[['Language combination', '\"Translation\"', '\"Language\"', '\"Localization\"',\n",
        "       '\"English\"', 'Language']].head()"
      ],
      "execution_count": null,
      "outputs": [
        {
          "output_type": "execute_result",
          "data": {
            "text/html": [
              "<div>\n",
              "<style scoped>\n",
              "    .dataframe tbody tr th:only-of-type {\n",
              "        vertical-align: middle;\n",
              "    }\n",
              "\n",
              "    .dataframe tbody tr th {\n",
              "        vertical-align: top;\n",
              "    }\n",
              "\n",
              "    .dataframe thead th {\n",
              "        text-align: right;\n",
              "    }\n",
              "</style>\n",
              "<table border=\"1\" class=\"dataframe\">\n",
              "  <thead>\n",
              "    <tr style=\"text-align: right;\">\n",
              "      <th></th>\n",
              "      <th>Language combination</th>\n",
              "      <th>\"Translation\"</th>\n",
              "      <th>\"Language\"</th>\n",
              "      <th>\"Localization\"</th>\n",
              "      <th>\"English\"</th>\n",
              "      <th>Language</th>\n",
              "    </tr>\n",
              "  </thead>\n",
              "  <tbody>\n",
              "    <tr>\n",
              "      <th>0</th>\n",
              "      <td>english - french</td>\n",
              "      <td>traduction</td>\n",
              "      <td>la langue</td>\n",
              "      <td>localisation</td>\n",
              "      <td>anglais</td>\n",
              "      <td>français</td>\n",
              "    </tr>\n",
              "    <tr>\n",
              "      <th>1</th>\n",
              "      <td>english - german</td>\n",
              "      <td>übersetzung</td>\n",
              "      <td>sprache</td>\n",
              "      <td>lokalisierung</td>\n",
              "      <td>englisch</td>\n",
              "      <td>deutsch</td>\n",
              "    </tr>\n",
              "    <tr>\n",
              "      <th>2</th>\n",
              "      <td>english - italian</td>\n",
              "      <td>traduzione</td>\n",
              "      <td>lingua</td>\n",
              "      <td>localizzazione</td>\n",
              "      <td>inglese</td>\n",
              "      <td>italiano</td>\n",
              "    </tr>\n",
              "    <tr>\n",
              "      <th>3</th>\n",
              "      <td>english - spanish</td>\n",
              "      <td>traducción</td>\n",
              "      <td>idioma</td>\n",
              "      <td>localización</td>\n",
              "      <td>inglés</td>\n",
              "      <td>español</td>\n",
              "    </tr>\n",
              "    <tr>\n",
              "      <th>4</th>\n",
              "      <td>english - chinese simplified</td>\n",
              "      <td>翻译</td>\n",
              "      <td>语言</td>\n",
              "      <td>本土化</td>\n",
              "      <td>英语</td>\n",
              "      <td>中国</td>\n",
              "    </tr>\n",
              "  </tbody>\n",
              "</table>\n",
              "</div>"
            ],
            "text/plain": [
              "           Language combination \"Translation\"  ... \"English\"  Language\n",
              "0              english - french    traduction  ...   anglais  français\n",
              "1              english - german   übersetzung  ...  englisch   deutsch\n",
              "2             english - italian    traduzione  ...   inglese  italiano\n",
              "3             english - spanish    traducción  ...    inglés   español\n",
              "4  english - chinese simplified            翻译  ...        英语        中国\n",
              "\n",
              "[5 rows x 6 columns]"
            ]
          },
          "metadata": {
            "tags": []
          },
          "execution_count": 20
        }
      ]
    },
    {
      "cell_type": "code",
      "metadata": {
        "id": "TKA9Q57IkIab"
      },
      "source": [
        "keys = ['翻译', '语言', '中文',  '中国',  '汉语', '本土化', '英语', '版本',\n",
        "        '区域', '跨地区', '地区','华语', '汉化', '英文', '国家', '国服', 'VPN','vpn']"
      ],
      "execution_count": null,
      "outputs": []
    },
    {
      "cell_type": "code",
      "metadata": {
        "colab": {
          "base_uri": "https://localhost:8080/"
        },
        "id": "Giu3MyNLFt30",
        "outputId": "165829f8-6348-4e5f-baff-edb5a3028d34"
      },
      "source": [
        "langlist=[]\n",
        "for i in keywords.index:\n",
        "  langlist+=list(keywords.loc[i,['\"Translation\"', '\"Language\"', '\"Localization\"',\n",
        "       '\"English\"', 'Language']].values)\n",
        "  \n",
        "langlist=langlist+keys  \n",
        "print(langlist)"
      ],
      "execution_count": null,
      "outputs": [
        {
          "output_type": "stream",
          "text": [
            "['traduction', 'la langue', 'localisation', 'anglais', 'français', 'übersetzung', 'sprache', 'lokalisierung', 'englisch', 'deutsch', 'traduzione', 'lingua', 'localizzazione', 'inglese', 'italiano', 'traducción', 'idioma', 'localización', 'inglés', 'español', '翻译', '语言', '本土化', '英语', '中国', '翻譯', '語言', '本土化', '英語', '中國', '翻訳', '言語', '局地化', '英語', '日本', '번역', '언어', '지방화', '영어', '한국', 'tradução', 'língua', 'localização', 'inglês', 'portugues', 'tradução', 'língua', 'localização', 'inglês', 'portugues', 'tłumaczenie', 'język', 'lokalizacja', 'angielski', 'polski', ' çeviri ', ' dil ', 'yerelleştirme', 'i̇ngilizce', 'türk', 'ترجمة', 'لغة', 'الموقع', 'الإنجليزية', 'العربية', 'перевод ', 'язык', 'локализация', 'английский', 'русский', 'vertaling', ' taal ', 'lokalisatie', 'engels', 'nederlands', 'översättning', 'språk', 'lokalisering', 'engelska', 'svenska', 'oversættelse', 'sprog', 'lokalisering', 'engelsk', 'dansk', 'překlad', 'jazyk', 'lokalizace', 'anglický ', 'česky', 'käännös', 'kieli', 'lokalisointi', 'englanti', 'suomalainen', 'μετάφραση', 'γλώσσα', 'εντοπισμόσ', 'αγγλικά', 'ελληνικά', 'oversettelse', 'språk', 'lokalisering', 'engelsk', 'norsk', 'þýðing', 'tungumál', 'staðsetning', 'ensku', 'íslensku', 'dịch', 'ngôn ngữ', 'nội địa hoá', 'tiếng anh', 'tiếng việt', 'अनुवाद', 'भाषा', 'स्थानीयकरण', 'अंग्रेजी', 'हिन्दी', 'terjemahan', 'bahasa', 'penyetempatan', 'bahasa inggris', 'indonesia', 'การแปล', 'ภาษา', 'การ จำกัด', 'อังกฤษ', 'ไทย', 'terjemahan', 'bahasa', 'penyetempatan', 'bahasa inggeris', 'melayu', 'תִרגוּם', 'שָׂפָה', 'לוקליזציה', 'אנגלית', 'עברית', 'translation', 'language', 'localization', 'english', 'english', nan, nan, nan, nan, nan, '翻译', '语言', '中文', '中国', '汉语', '本土化', '英语', '版本', '区域', '跨地区', '地区', '华语', '汉化', '英文', '国家', '国服', 'VPN', 'vpn']\n"
          ],
          "name": "stdout"
        }
      ]
    },
    {
      "cell_type": "code",
      "metadata": {
        "colab": {
          "base_uri": "https://localhost:8080/"
        },
        "id": "1bPKMfMjmpH3",
        "outputId": "7e7f2aba-9048-4f6f-a293-97af5b477309"
      },
      "source": [
        "for i,key in enumerate(langlist):\n",
        "  langlist[i]=str(key).strip()\n",
        "\n",
        "print(langlist)  "
      ],
      "execution_count": null,
      "outputs": [
        {
          "output_type": "stream",
          "text": [
            "['traduction', 'la langue', 'localisation', 'anglais', 'français', 'übersetzung', 'sprache', 'lokalisierung', 'englisch', 'deutsch', 'traduzione', 'lingua', 'localizzazione', 'inglese', 'italiano', 'traducción', 'idioma', 'localización', 'inglés', 'español', '翻译', '语言', '本土化', '英语', '中国', '翻譯', '語言', '本土化', '英語', '中國', '翻訳', '言語', '局地化', '英語', '日本', '번역', '언어', '지방화', '영어', '한국', 'tradução', 'língua', 'localização', 'inglês', 'portugues', 'tradução', 'língua', 'localização', 'inglês', 'portugues', 'tłumaczenie', 'język', 'lokalizacja', 'angielski', 'polski', 'çeviri', 'dil', 'yerelleştirme', 'i̇ngilizce', 'türk', 'ترجمة', 'لغة', 'الموقع', 'الإنجليزية', 'العربية', 'перевод', 'язык', 'локализация', 'английский', 'русский', 'vertaling', 'taal', 'lokalisatie', 'engels', 'nederlands', 'översättning', 'språk', 'lokalisering', 'engelska', 'svenska', 'oversættelse', 'sprog', 'lokalisering', 'engelsk', 'dansk', 'překlad', 'jazyk', 'lokalizace', 'anglický', 'česky', 'käännös', 'kieli', 'lokalisointi', 'englanti', 'suomalainen', 'μετάφραση', 'γλώσσα', 'εντοπισμόσ', 'αγγλικά', 'ελληνικά', 'oversettelse', 'språk', 'lokalisering', 'engelsk', 'norsk', 'þýðing', 'tungumál', 'staðsetning', 'ensku', 'íslensku', 'dịch', 'ngôn ngữ', 'nội địa hoá', 'tiếng anh', 'tiếng việt', 'अनुवाद', 'भाषा', 'स्थानीयकरण', 'अंग्रेजी', 'हिन्दी', 'terjemahan', 'bahasa', 'penyetempatan', 'bahasa inggris', 'indonesia', 'การแปล', 'ภาษา', 'การ จำกัด', 'อังกฤษ', 'ไทย', 'terjemahan', 'bahasa', 'penyetempatan', 'bahasa inggeris', 'melayu', 'תִרגוּם', 'שָׂפָה', 'לוקליזציה', 'אנגלית', 'עברית', 'translation', 'language', 'localization', 'english', 'english', 'nan', 'nan', 'nan', 'nan', 'nan', '翻译', '语言', '中文', '中国', '汉语', '本土化', '英语', '版本', '区域', '跨地区', '地区', '华语', '汉化', '英文', '国家', '国服', 'VPN', 'vpn']\n"
          ],
          "name": "stdout"
        }
      ]
    },
    {
      "cell_type": "code",
      "metadata": {
        "colab": {
          "base_uri": "https://localhost:8080/",
          "height": 35
        },
        "id": "bVzlfzVaxSdx",
        "outputId": "2d6c685f-8167-4ba6-e542-918ed0c4b1d9"
      },
      "source": [
        "re.sub(r'[^\\w\\s]',' ',unicodedata.normalize('NFKD','и́')).strip().casefold()  #==unicodedata.normalize('NFKD','и́').casefold()"
      ],
      "execution_count": null,
      "outputs": [
        {
          "output_type": "execute_result",
          "data": {
            "application/vnd.google.colaboratory.intrinsic+json": {
              "type": "string"
            },
            "text/plain": [
              "'и'"
            ]
          },
          "metadata": {
            "tags": []
          },
          "execution_count": 24
        }
      ]
    },
    {
      "cell_type": "code",
      "metadata": {
        "colab": {
          "base_uri": "https://localhost:8080/",
          "height": 35
        },
        "id": "1OcO3OgMy3x-",
        "outputId": "75a259b1-3226-42a9-d319-3d949d095edd"
      },
      "source": [
        "re.sub(r'[\\W\\d]',' ',unicodedata.normalize('NFKD','שָׂפָה')).encode('ascii', 'ignore').decode('ascii')"
      ],
      "execution_count": null,
      "outputs": [
        {
          "output_type": "execute_result",
          "data": {
            "application/vnd.google.colaboratory.intrinsic+json": {
              "type": "string"
            },
            "text/plain": [
              "'   '"
            ]
          },
          "metadata": {
            "tags": []
          },
          "execution_count": 9
        }
      ]
    },
    {
      "cell_type": "code",
      "metadata": {
        "colab": {
          "base_uri": "https://localhost:8080/"
        },
        "id": "Thhc26CszPob",
        "outputId": "86b0d589-5d92-4f00-e2f8-9d075807e454"
      },
      "source": [
        "'שָׂפָה'.isalpha()"
      ],
      "execution_count": null,
      "outputs": [
        {
          "output_type": "execute_result",
          "data": {
            "text/plain": [
              "False"
            ]
          },
          "metadata": {
            "tags": []
          },
          "execution_count": 26
        }
      ]
    },
    {
      "cell_type": "code",
      "metadata": {
        "id": "pAUh896IO13h",
        "colab": {
          "base_uri": "https://localhost:8080/"
        },
        "outputId": "e35ef241-3643-4490-d484-0fbd6f8fb174"
      },
      "source": [
        "langlist.remove('nan')\n",
        "print(langlist)"
      ],
      "execution_count": null,
      "outputs": [
        {
          "output_type": "stream",
          "text": [
            "['traduction', 'la langue', 'localisation', 'anglais', 'français', 'übersetzung', 'sprache', 'lokalisierung', 'englisch', 'deutsch', 'traduzione', 'lingua', 'localizzazione', 'inglese', 'italiano', 'traducción', 'idioma', 'localización', 'inglés', 'español', '翻译', '语言', '本土化', '英语', '中国', '翻譯', '語言', '本土化', '英語', '中國', '翻訳', '言語', '局地化', '英語', '日本', '번역', '언어', '지방화', '영어', '한국', 'tradução', 'língua', 'localização', 'inglês', 'portugues', 'tradução', 'língua', 'localização', 'inglês', 'portugues', 'tłumaczenie', 'język', 'lokalizacja', 'angielski', 'polski', 'çeviri', 'dil', 'yerelleştirme', 'i̇ngilizce', 'türk', 'ترجمة', 'لغة', 'الموقع', 'الإنجليزية', 'العربية', 'перевод', 'язык', 'локализация', 'английский', 'русский', 'vertaling', 'taal', 'lokalisatie', 'engels', 'nederlands', 'översättning', 'språk', 'lokalisering', 'engelska', 'svenska', 'oversættelse', 'sprog', 'lokalisering', 'engelsk', 'dansk', 'překlad', 'jazyk', 'lokalizace', 'anglický', 'česky', 'käännös', 'kieli', 'lokalisointi', 'englanti', 'suomalainen', 'μετάφραση', 'γλώσσα', 'εντοπισμόσ', 'αγγλικά', 'ελληνικά', 'oversettelse', 'språk', 'lokalisering', 'engelsk', 'norsk', 'þýðing', 'tungumál', 'staðsetning', 'ensku', 'íslensku', 'dịch', 'ngôn ngữ', 'nội địa hoá', 'tiếng anh', 'tiếng việt', 'अनुवाद', 'भाषा', 'स्थानीयकरण', 'अंग्रेजी', 'हिन्दी', 'terjemahan', 'bahasa', 'penyetempatan', 'bahasa inggris', 'indonesia', 'การแปล', 'ภาษา', 'การ จำกัด', 'อังกฤษ', 'ไทย', 'terjemahan', 'bahasa', 'penyetempatan', 'bahasa inggeris', 'melayu', 'תִרגוּם', 'שָׂפָה', 'לוקליזציה', 'אנגלית', 'עברית', 'translation', 'language', 'localization', 'english', 'english', 'nan', 'nan', 'nan', 'nan', '翻译', '语言', '中文', '中国', '汉语', '本土化', '英语', '版本', '区域', '跨地区', '地区', '华语', '汉化', '英文', '国家', '国服', 'VPN', 'vpn']\n"
          ],
          "name": "stdout"
        }
      ]
    },
    {
      "cell_type": "markdown",
      "metadata": {
        "id": "lEY32fVT2Vxt"
      },
      "source": [
        "###Filtering Localization Reviews based on Keywords"
      ]
    },
    {
      "cell_type": "code",
      "metadata": {
        "id": "wqf7_uAefm8T"
      },
      "source": [
        "def findWholeWord(text):\n",
        "    text=unicodedata.normalize('NFKD',text)\n",
        "    c=0\n",
        "    for w in langlist:\n",
        "      match = re.compile(r'\\b({0})\\b'.format(unicodedata.normalize('NFKD',w)), flags=re.IGNORECASE)\n",
        "      c = c + bool(re.search(match,text))*1\n",
        "    if c ==  0:\n",
        "      return 0\n",
        "    return 1  \n",
        "#print(findWholeWord('seek')('those who seek shall find'))    # -> <match object>\n",
        "#print(findWholeWord('word')('swordsmith'))                   # -> None"
      ],
      "execution_count": null,
      "outputs": []
    },
    {
      "cell_type": "code",
      "metadata": {
        "id": "ivtMEz_1ek-v"
      },
      "source": [
        "df1['filtered']=df1['filtered'].str.casefold()\n",
        "df1['loc']=df1['filtered'].apply(findWholeWord)"
      ],
      "execution_count": null,
      "outputs": []
    },
    {
      "cell_type": "code",
      "metadata": {
        "colab": {
          "base_uri": "https://localhost:8080/"
        },
        "id": "aD8_P0ophDSL",
        "outputId": "ccda501e-2bb2-4840-897f-2e55a6cf6e11"
      },
      "source": [
        "df1['loc'].sum()"
      ],
      "execution_count": null,
      "outputs": [
        {
          "output_type": "execute_result",
          "data": {
            "text/plain": [
              "5883"
            ]
          },
          "metadata": {
            "tags": []
          },
          "execution_count": 31
        }
      ]
    },
    {
      "cell_type": "code",
      "metadata": {
        "id": "6PKuNklBicTT",
        "colab": {
          "base_uri": "https://localhost:8080/"
        },
        "outputId": "5c09324d-79b2-452e-cb75-5d70d4b1c538"
      },
      "source": [
        "df2['loc'] = df2['filtered'].str.casefold().apply(findWholeWord)\n",
        "df2['loc'].sum()"
      ],
      "execution_count": null,
      "outputs": [
        {
          "output_type": "execute_result",
          "data": {
            "text/plain": [
              "6784"
            ]
          },
          "metadata": {
            "tags": []
          },
          "execution_count": 32
        }
      ]
    },
    {
      "cell_type": "code",
      "metadata": {
        "id": "iKdvqvBtgaYJ",
        "colab": {
          "base_uri": "https://localhost:8080/"
        },
        "outputId": "1c29b57e-c283-4f30-f3ab-c65f08bf52a2"
      },
      "source": [
        "dfloc=pd.concat([df1[df1['loc']==1],df2[df2['loc']==1]],ignore_index=True)\n",
        "len(dfloc)"
      ],
      "execution_count": null,
      "outputs": [
        {
          "output_type": "execute_result",
          "data": {
            "text/plain": [
              "12667"
            ]
          },
          "metadata": {
            "tags": []
          },
          "execution_count": 33
        }
      ]
    },
    {
      "cell_type": "code",
      "metadata": {
        "id": "orKV8XXHoEb_",
        "colab": {
          "base_uri": "https://localhost:8080/"
        },
        "outputId": "844876dc-f46b-4fc4-eb70-4a07e9bcb9d2"
      },
      "source": [
        "pip install langdetect"
      ],
      "execution_count": null,
      "outputs": [
        {
          "output_type": "stream",
          "text": [
            "Collecting langdetect\n",
            "\u001b[?25l  Downloading https://files.pythonhosted.org/packages/56/a3/8407c1e62d5980188b4acc45ef3d94b933d14a2ebc9ef3505f22cf772570/langdetect-1.0.8.tar.gz (981kB)\n",
            "\u001b[K     |████████████████████████████████| 983kB 7.9MB/s \n",
            "\u001b[?25hRequirement already satisfied: six in /usr/local/lib/python3.7/dist-packages (from langdetect) (1.15.0)\n",
            "Building wheels for collected packages: langdetect\n",
            "  Building wheel for langdetect (setup.py) ... \u001b[?25l\u001b[?25hdone\n",
            "  Created wheel for langdetect: filename=langdetect-1.0.8-cp37-none-any.whl size=993193 sha256=ed72eedf1875b87053cf882bc5770648367ef529968c7ff1a6e7a736a256d391\n",
            "  Stored in directory: /root/.cache/pip/wheels/8d/b3/aa/6d99de9f3841d7d3d40a60ea06e6d669e8e5012e6c8b947a57\n",
            "Successfully built langdetect\n",
            "Installing collected packages: langdetect\n",
            "Successfully installed langdetect-1.0.8\n"
          ],
          "name": "stdout"
        }
      ]
    },
    {
      "cell_type": "code",
      "metadata": {
        "id": "pnFD-HOloEQ_"
      },
      "source": [
        "from langdetect import detect\n",
        "from langdetect import DetectorFactory\n",
        "DetectorFactory.seed = 0"
      ],
      "execution_count": null,
      "outputs": []
    },
    {
      "cell_type": "code",
      "metadata": {
        "id": "jCIxBYxBoJsY"
      },
      "source": [
        "dfloc['lang']=dfloc['filtered'].apply(lambda x: detect(x))"
      ],
      "execution_count": null,
      "outputs": []
    },
    {
      "cell_type": "code",
      "metadata": {
        "id": "PbmS1UEqoznG",
        "colab": {
          "base_uri": "https://localhost:8080/"
        },
        "outputId": "0a60b88c-f237-4f8e-9d85-1fb684ce130a"
      },
      "source": [
        "dfloc['lang'].value_counts()"
      ],
      "execution_count": null,
      "outputs": [
        {
          "output_type": "execute_result",
          "data": {
            "text/plain": [
              "tr       2087\n",
              "en       1816\n",
              "fr       1388\n",
              "id       1188\n",
              "it       1105\n",
              "ru        806\n",
              "de        752\n",
              "ar        695\n",
              "vi        629\n",
              "es        600\n",
              "pt        431\n",
              "pl        283\n",
              "tl        272\n",
              "nl        166\n",
              "ko        125\n",
              "cs         50\n",
              "th         49\n",
              "zh-cn      34\n",
              "af         30\n",
              "no         25\n",
              "sv         23\n",
              "da         18\n",
              "et         12\n",
              "ro         11\n",
              "so         10\n",
              "el          8\n",
              "ca          8\n",
              "he          6\n",
              "sw          6\n",
              "sk          5\n",
              "cy          5\n",
              "zh-tw       4\n",
              "ja          4\n",
              "hr          3\n",
              "bg          2\n",
              "sl          2\n",
              "fi          2\n",
              "sq          2\n",
              "hu          2\n",
              "mk          1\n",
              "uk          1\n",
              "hi          1\n",
              "Name: lang, dtype: int64"
            ]
          },
          "metadata": {
            "tags": []
          },
          "execution_count": 37
        }
      ]
    },
    {
      "cell_type": "code",
      "metadata": {
        "colab": {
          "base_uri": "https://localhost:8080/"
        },
        "id": "etp70nGBruCo",
        "outputId": "3642f528-fe2b-410e-a437-a5b5d7c0e5cb"
      },
      "source": [
        "keywords.columns"
      ],
      "execution_count": null,
      "outputs": [
        {
          "output_type": "execute_result",
          "data": {
            "text/plain": [
              "Index(['Language combination', '\"Translation\"', '\"Language\"', '\"Localization\"',\n",
              "       '\"English\"', 'Language', 'Unnamed: 6', 'ISO 639-1',\n",
              "       'ISO 3166-1-alpha-2', 'Unnamed: 9'],\n",
              "      dtype='object')"
            ]
          },
          "metadata": {
            "tags": []
          },
          "execution_count": 38
        }
      ]
    },
    {
      "cell_type": "code",
      "metadata": {
        "colab": {
          "base_uri": "https://localhost:8080/"
        },
        "id": "YEB_uHsOtQ_l",
        "outputId": "859201b4-87f6-4593-e798-ebedf1c09386"
      },
      "source": [
        "re.split('english - ','english - english')"
      ],
      "execution_count": null,
      "outputs": [
        {
          "output_type": "execute_result",
          "data": {
            "text/plain": [
              "['', 'english']"
            ]
          },
          "metadata": {
            "tags": []
          },
          "execution_count": 39
        }
      ]
    },
    {
      "cell_type": "code",
      "metadata": {
        "colab": {
          "base_uri": "https://localhost:8080/"
        },
        "id": "AJ5I-S3Rv14-",
        "outputId": "18ce3b27-e197-41ed-c253-f71f40061afb"
      },
      "source": [
        "keywords[0:29][['Language combination','ISO 639-1']]"
      ],
      "execution_count": null,
      "outputs": [
        {
          "output_type": "execute_result",
          "data": {
            "text/html": [
              "<div>\n",
              "<style scoped>\n",
              "    .dataframe tbody tr th:only-of-type {\n",
              "        vertical-align: middle;\n",
              "    }\n",
              "\n",
              "    .dataframe tbody tr th {\n",
              "        vertical-align: top;\n",
              "    }\n",
              "\n",
              "    .dataframe thead th {\n",
              "        text-align: right;\n",
              "    }\n",
              "</style>\n",
              "<table border=\"1\" class=\"dataframe\">\n",
              "  <thead>\n",
              "    <tr style=\"text-align: right;\">\n",
              "      <th></th>\n",
              "      <th>Language combination</th>\n",
              "      <th>ISO 639-1</th>\n",
              "    </tr>\n",
              "  </thead>\n",
              "  <tbody>\n",
              "    <tr>\n",
              "      <th>0</th>\n",
              "      <td>english - french</td>\n",
              "      <td>fr</td>\n",
              "    </tr>\n",
              "    <tr>\n",
              "      <th>1</th>\n",
              "      <td>english - german</td>\n",
              "      <td>de</td>\n",
              "    </tr>\n",
              "    <tr>\n",
              "      <th>2</th>\n",
              "      <td>english - italian</td>\n",
              "      <td>it</td>\n",
              "    </tr>\n",
              "    <tr>\n",
              "      <th>3</th>\n",
              "      <td>english - spanish</td>\n",
              "      <td>es</td>\n",
              "    </tr>\n",
              "    <tr>\n",
              "      <th>4</th>\n",
              "      <td>english - chinese simplified</td>\n",
              "      <td>zh</td>\n",
              "    </tr>\n",
              "    <tr>\n",
              "      <th>5</th>\n",
              "      <td>english - chinese traditional</td>\n",
              "      <td>zh</td>\n",
              "    </tr>\n",
              "    <tr>\n",
              "      <th>6</th>\n",
              "      <td>english - japanese</td>\n",
              "      <td>ja</td>\n",
              "    </tr>\n",
              "    <tr>\n",
              "      <th>7</th>\n",
              "      <td>english - korean</td>\n",
              "      <td>ko</td>\n",
              "    </tr>\n",
              "    <tr>\n",
              "      <th>8</th>\n",
              "      <td>english - portuguese (brz)</td>\n",
              "      <td>pt</td>\n",
              "    </tr>\n",
              "    <tr>\n",
              "      <th>9</th>\n",
              "      <td>english - portuguese (eur)</td>\n",
              "      <td>pt</td>\n",
              "    </tr>\n",
              "    <tr>\n",
              "      <th>10</th>\n",
              "      <td>english - polish</td>\n",
              "      <td>pl</td>\n",
              "    </tr>\n",
              "    <tr>\n",
              "      <th>11</th>\n",
              "      <td>english - turkish</td>\n",
              "      <td>tr</td>\n",
              "    </tr>\n",
              "    <tr>\n",
              "      <th>12</th>\n",
              "      <td>english - arabic</td>\n",
              "      <td>ar</td>\n",
              "    </tr>\n",
              "    <tr>\n",
              "      <th>13</th>\n",
              "      <td>english - russian</td>\n",
              "      <td>ru</td>\n",
              "    </tr>\n",
              "    <tr>\n",
              "      <th>14</th>\n",
              "      <td>english - dutch</td>\n",
              "      <td>nl</td>\n",
              "    </tr>\n",
              "    <tr>\n",
              "      <th>15</th>\n",
              "      <td>english - swedish</td>\n",
              "      <td>sv</td>\n",
              "    </tr>\n",
              "    <tr>\n",
              "      <th>16</th>\n",
              "      <td>english - danish</td>\n",
              "      <td>da</td>\n",
              "    </tr>\n",
              "    <tr>\n",
              "      <th>17</th>\n",
              "      <td>english - czech</td>\n",
              "      <td>cs</td>\n",
              "    </tr>\n",
              "    <tr>\n",
              "      <th>18</th>\n",
              "      <td>english - finnish</td>\n",
              "      <td>fi</td>\n",
              "    </tr>\n",
              "    <tr>\n",
              "      <th>19</th>\n",
              "      <td>english - greek</td>\n",
              "      <td>el</td>\n",
              "    </tr>\n",
              "    <tr>\n",
              "      <th>20</th>\n",
              "      <td>english - norwegian</td>\n",
              "      <td>no</td>\n",
              "    </tr>\n",
              "    <tr>\n",
              "      <th>21</th>\n",
              "      <td>english - icelandic</td>\n",
              "      <td>is</td>\n",
              "    </tr>\n",
              "    <tr>\n",
              "      <th>22</th>\n",
              "      <td>english - vietnamese</td>\n",
              "      <td>vi</td>\n",
              "    </tr>\n",
              "    <tr>\n",
              "      <th>23</th>\n",
              "      <td>english - hindi</td>\n",
              "      <td>hi</td>\n",
              "    </tr>\n",
              "    <tr>\n",
              "      <th>24</th>\n",
              "      <td>english - indonesian</td>\n",
              "      <td>id</td>\n",
              "    </tr>\n",
              "    <tr>\n",
              "      <th>25</th>\n",
              "      <td>english - thai</td>\n",
              "      <td>th</td>\n",
              "    </tr>\n",
              "    <tr>\n",
              "      <th>26</th>\n",
              "      <td>english - malayan</td>\n",
              "      <td>ms</td>\n",
              "    </tr>\n",
              "    <tr>\n",
              "      <th>27</th>\n",
              "      <td>english - hebrew</td>\n",
              "      <td>he</td>\n",
              "    </tr>\n",
              "    <tr>\n",
              "      <th>28</th>\n",
              "      <td>english - english</td>\n",
              "      <td>en</td>\n",
              "    </tr>\n",
              "  </tbody>\n",
              "</table>\n",
              "</div>"
            ],
            "text/plain": [
              "             Language combination ISO 639-1\n",
              "0                english - french        fr\n",
              "1                english - german        de\n",
              "2               english - italian        it\n",
              "3               english - spanish        es\n",
              "4    english - chinese simplified        zh\n",
              "5   english - chinese traditional        zh\n",
              "6              english - japanese        ja\n",
              "7                english - korean        ko\n",
              "8      english - portuguese (brz)        pt\n",
              "9      english - portuguese (eur)        pt\n",
              "10               english - polish        pl\n",
              "11              english - turkish        tr\n",
              "12               english - arabic        ar\n",
              "13              english - russian        ru\n",
              "14                english - dutch        nl\n",
              "15              english - swedish        sv\n",
              "16               english - danish        da\n",
              "17               english - czech         cs\n",
              "18              english - finnish        fi\n",
              "19                english - greek        el\n",
              "20            english - norwegian        no\n",
              "21            english - icelandic        is\n",
              "22           english - vietnamese        vi\n",
              "23                english - hindi        hi\n",
              "24           english - indonesian        id\n",
              "25                 english - thai        th\n",
              "26              english - malayan        ms\n",
              "27               english - hebrew        he\n",
              "28              english - english        en"
            ]
          },
          "metadata": {
            "tags": []
          },
          "execution_count": 40
        }
      ]
    },
    {
      "cell_type": "code",
      "metadata": {
        "id": "leQ7Ya3tpTyE"
      },
      "source": [
        "langdict={}\n",
        "for comb, code in keywords[0:29][['Language combination','ISO 639-1']].values:\n",
        "   #print(code,comb)\n",
        "   langdict[str(code).lower()]=re.split('english - ',str(comb))[1]\n",
        "\n",
        "#keywords[['Language combination','ISO 639-1']].apply(lambda x,y : langdict[y].append(x), axis=1)"
      ],
      "execution_count": null,
      "outputs": []
    },
    {
      "cell_type": "code",
      "metadata": {
        "colab": {
          "base_uri": "https://localhost:8080/"
        },
        "id": "e4OGfMDTUfDT",
        "outputId": "66472c73-42eb-40b1-dd20-db5e893dcfa0"
      },
      "source": [
        "langdict"
      ],
      "execution_count": null,
      "outputs": [
        {
          "output_type": "execute_result",
          "data": {
            "text/plain": [
              "{'ar': 'arabic',\n",
              " 'cs': 'czech ',\n",
              " 'da': 'danish',\n",
              " 'de': 'german',\n",
              " 'el': 'greek',\n",
              " 'en': 'english',\n",
              " 'es': 'spanish',\n",
              " 'fi': 'finnish',\n",
              " 'fr': 'french',\n",
              " 'he': 'hebrew',\n",
              " 'hi': 'hindi',\n",
              " 'id': 'indonesian',\n",
              " 'is': 'icelandic',\n",
              " 'it': 'italian',\n",
              " 'ja': 'japanese',\n",
              " 'ko': 'korean',\n",
              " 'ms': 'malayan',\n",
              " 'nl': 'dutch',\n",
              " 'no': 'norwegian',\n",
              " 'pl': 'polish',\n",
              " 'pt': 'portuguese (eur)',\n",
              " 'ru': 'russian',\n",
              " 'sv': 'swedish',\n",
              " 'th': 'thai',\n",
              " 'tr': 'turkish',\n",
              " 'vi': 'vietnamese',\n",
              " 'zh': 'chinese traditional'}"
            ]
          },
          "metadata": {
            "tags": []
          },
          "execution_count": 42
        }
      ]
    },
    {
      "cell_type": "code",
      "metadata": {
        "id": "B6ZSa0qEoRI2"
      },
      "source": [
        "for i in set(dfloc['lang'].value_counts().index):\n",
        "  if i not in langdict:\n",
        "    langdict[i]=i"
      ],
      "execution_count": null,
      "outputs": []
    },
    {
      "cell_type": "code",
      "metadata": {
        "id": "kBW7JONfjd34"
      },
      "source": [
        "langdict['zh']='Chinese'\n",
        "#langdict['tl']='Tagalog'\n",
        "langdict['zh-cn']='Chinese'\n",
        "# langdict['cy']='cy'\n",
        "# langdict['sw']='sw'"
      ],
      "execution_count": null,
      "outputs": []
    },
    {
      "cell_type": "code",
      "metadata": {
        "colab": {
          "base_uri": "https://localhost:8080/"
        },
        "id": "fkOkStVIqShi",
        "outputId": "c69616d7-ca12-4947-c874-fc194ddff705"
      },
      "source": [
        "dfloc.info()"
      ],
      "execution_count": null,
      "outputs": [
        {
          "output_type": "stream",
          "text": [
            "<class 'pandas.core.frame.DataFrame'>\n",
            "RangeIndex: 12667 entries, 0 to 12666\n",
            "Data columns (total 6 columns):\n",
            " #   Column                Non-Null Count  Dtype \n",
            "---  ------                --------------  ----- \n",
            " 0   ID                    12667 non-null  object\n",
            " 1   Score/Recommendation  12667 non-null  int64 \n",
            " 2   Text                  12667 non-null  object\n",
            " 3   filtered              12667 non-null  object\n",
            " 4   loc                   12667 non-null  int64 \n",
            " 5   lang                  12667 non-null  object\n",
            "dtypes: int64(2), object(4)\n",
            "memory usage: 593.9+ KB\n"
          ],
          "name": "stdout"
        }
      ]
    },
    {
      "cell_type": "code",
      "metadata": {
        "id": "vEH6K27BVJK7"
      },
      "source": [
        "dfloc['lang_name']=dfloc['lang'].apply(lambda x:langdict[x])"
      ],
      "execution_count": null,
      "outputs": []
    },
    {
      "cell_type": "code",
      "metadata": {
        "id": "74X3X6sZPEMU"
      },
      "source": [
        "dfloc1=dfloc[~dfloc['Text'].isna()]"
      ],
      "execution_count": null,
      "outputs": []
    },
    {
      "cell_type": "code",
      "metadata": {
        "colab": {
          "base_uri": "https://localhost:8080/"
        },
        "id": "uuaAb5k0t3Nm",
        "outputId": "6e0071e0-82b5-4587-d49d-e3649e44a03b"
      },
      "source": [
        "dfloc1.loc[790,'Text']"
      ],
      "execution_count": null,
      "outputs": [
        {
          "output_type": "execute_result",
          "data": {
            "application/vnd.google.colaboratory.intrinsic+json": {
              "type": "string"
            },
            "text/plain": [
              "'Le mettre en français se serai cool'"
            ]
          },
          "metadata": {
            "tags": []
          },
          "execution_count": 48
        }
      ]
    },
    {
      "cell_type": "code",
      "metadata": {
        "id": "4yFmD7A8pxT5"
      },
      "source": [
        "# dfloc1[dfloc1['lang_name']=='Tagalog']['Text']\n",
        "# dfloc1.loc[3321,'lang']='hi'\n",
        "# i=[790,886,1193]\n",
        "# dfloc1.loc[1415,'lang']='ms'\n",
        "# dfloc1.loc[1415,'lang']"
      ],
      "execution_count": null,
      "outputs": []
    },
    {
      "cell_type": "code",
      "metadata": {
        "colab": {
          "base_uri": "https://localhost:8080/"
        },
        "id": "j0zAZY8Bpaa2",
        "outputId": "b1aff367-ab8a-4787-d8c5-9e80b5907ec9"
      },
      "source": [
        "dfloc1['lang_name'].value_counts()"
      ],
      "execution_count": null,
      "outputs": [
        {
          "output_type": "execute_result",
          "data": {
            "text/plain": [
              "turkish             2087\n",
              "english             1816\n",
              "french              1388\n",
              "indonesian          1188\n",
              "italian             1105\n",
              "russian              806\n",
              "german               752\n",
              "arabic               695\n",
              "vietnamese           629\n",
              "spanish              600\n",
              "portuguese (eur)     431\n",
              "polish               283\n",
              "tl                   272\n",
              "dutch                166\n",
              "korean               125\n",
              "czech                 50\n",
              "thai                  49\n",
              "Chinese               34\n",
              "af                    30\n",
              "norwegian             25\n",
              "swedish               23\n",
              "danish                18\n",
              "et                    12\n",
              "ro                    11\n",
              "so                    10\n",
              "ca                     8\n",
              "greek                  8\n",
              "sw                     6\n",
              "hebrew                 6\n",
              "sk                     5\n",
              "cy                     5\n",
              "japanese               4\n",
              "zh-tw                  4\n",
              "hr                     3\n",
              "hu                     2\n",
              "sq                     2\n",
              "bg                     2\n",
              "finnish                2\n",
              "sl                     2\n",
              "mk                     1\n",
              "hindi                  1\n",
              "uk                     1\n",
              "Name: lang_name, dtype: int64"
            ]
          },
          "metadata": {
            "tags": []
          },
          "execution_count": 50
        }
      ]
    },
    {
      "cell_type": "code",
      "metadata": {
        "id": "uFy_AkiMv_S8"
      },
      "source": [
        "dfloc1.reset_index(inplace=True)"
      ],
      "execution_count": null,
      "outputs": []
    },
    {
      "cell_type": "code",
      "metadata": {
        "id": "mgk-ZwYcwzNE"
      },
      "source": [
        "dfloc1.to_csv('filtered_reviews_normalized.csv', index = False)"
      ],
      "execution_count": null,
      "outputs": []
    },
    {
      "cell_type": "code",
      "metadata": {
        "colab": {
          "base_uri": "https://localhost:8080/"
        },
        "id": "4VRlXCRdymME",
        "outputId": "86ea2fcc-50a1-45a8-afa3-cc7ae30a39fd"
      },
      "source": [
        "from google.colab import files\n",
        "files.download(\"filtered_reviews_normalized.csv\")"
      ],
      "execution_count": null,
      "outputs": [
        {
          "output_type": "display_data",
          "data": {
            "application/javascript": [
              "\n",
              "    async function download(id, filename, size) {\n",
              "      if (!google.colab.kernel.accessAllowed) {\n",
              "        return;\n",
              "      }\n",
              "      const div = document.createElement('div');\n",
              "      const label = document.createElement('label');\n",
              "      label.textContent = `Downloading \"${filename}\": `;\n",
              "      div.appendChild(label);\n",
              "      const progress = document.createElement('progress');\n",
              "      progress.max = size;\n",
              "      div.appendChild(progress);\n",
              "      document.body.appendChild(div);\n",
              "\n",
              "      const buffers = [];\n",
              "      let downloaded = 0;\n",
              "\n",
              "      const channel = await google.colab.kernel.comms.open(id);\n",
              "      // Send a message to notify the kernel that we're ready.\n",
              "      channel.send({})\n",
              "\n",
              "      for await (const message of channel.messages) {\n",
              "        // Send a message to notify the kernel that we're ready.\n",
              "        channel.send({})\n",
              "        if (message.buffers) {\n",
              "          for (const buffer of message.buffers) {\n",
              "            buffers.push(buffer);\n",
              "            downloaded += buffer.byteLength;\n",
              "            progress.value = downloaded;\n",
              "          }\n",
              "        }\n",
              "      }\n",
              "      const blob = new Blob(buffers, {type: 'application/binary'});\n",
              "      const a = document.createElement('a');\n",
              "      a.href = window.URL.createObjectURL(blob);\n",
              "      a.download = filename;\n",
              "      div.appendChild(a);\n",
              "      a.click();\n",
              "      div.remove();\n",
              "    }\n",
              "  "
            ],
            "text/plain": [
              "<IPython.core.display.Javascript object>"
            ]
          },
          "metadata": {
            "tags": []
          }
        },
        {
          "output_type": "display_data",
          "data": {
            "application/javascript": [
              "download(\"download_f1a735a9-3671-4c7e-9351-20f36e0fdaa1\", \"filtered_reviews_normalized.csv\", 6798673)"
            ],
            "text/plain": [
              "<IPython.core.display.Javascript object>"
            ]
          },
          "metadata": {
            "tags": []
          }
        }
      ]
    },
    {
      "cell_type": "code",
      "metadata": {
        "id": "uGPWf25TYXTW"
      },
      "source": [
        ""
      ],
      "execution_count": null,
      "outputs": []
    },
    {
      "cell_type": "markdown",
      "metadata": {
        "id": "0HYKg_Jb2Lxb"
      },
      "source": [
        "### Translating Reviews about Localization"
      ]
    },
    {
      "cell_type": "code",
      "metadata": {
        "id": "KT1d_JG6Eebx"
      },
      "source": [
        "df=pd.read_csv('/content/drive/MyDrive/filtered_reviews_normalized.csv',engine='python')"
      ],
      "execution_count": null,
      "outputs": []
    },
    {
      "cell_type": "code",
      "metadata": {
        "id": "EiEQptkVEeQ7"
      },
      "source": [
        "def information(df):\n",
        "  output=[]\n",
        "  for col in df.columns:\n",
        "    nonnull=len(df)-np.sum(pd.isna(df[col]))\n",
        "    unique=df[col].nunique()\n",
        "    coltype=str(df[col].dtype)\n",
        "    output.append([col,nonnull,unique,coltype])\n",
        "  output=pd.DataFrame(output)\n",
        "  output.columns=['colName','non-null values', 'unique', 'dtype']\n",
        "  return output"
      ],
      "execution_count": null,
      "outputs": []
    },
    {
      "cell_type": "code",
      "metadata": {
        "colab": {
          "base_uri": "https://localhost:8080/",
          "height": 297
        },
        "id": "jFYLww7TFFR5",
        "outputId": "8ced8d2e-f2e7-4b17-a913-ef9d0f4860c5"
      },
      "source": [
        "information(df)"
      ],
      "execution_count": null,
      "outputs": [
        {
          "output_type": "execute_result",
          "data": {
            "text/html": [
              "<div>\n",
              "<style scoped>\n",
              "    .dataframe tbody tr th:only-of-type {\n",
              "        vertical-align: middle;\n",
              "    }\n",
              "\n",
              "    .dataframe tbody tr th {\n",
              "        vertical-align: top;\n",
              "    }\n",
              "\n",
              "    .dataframe thead th {\n",
              "        text-align: right;\n",
              "    }\n",
              "</style>\n",
              "<table border=\"1\" class=\"dataframe\">\n",
              "  <thead>\n",
              "    <tr style=\"text-align: right;\">\n",
              "      <th></th>\n",
              "      <th>colName</th>\n",
              "      <th>non-null values</th>\n",
              "      <th>unique</th>\n",
              "      <th>dtype</th>\n",
              "    </tr>\n",
              "  </thead>\n",
              "  <tbody>\n",
              "    <tr>\n",
              "      <th>0</th>\n",
              "      <td>index</td>\n",
              "      <td>12667</td>\n",
              "      <td>12667</td>\n",
              "      <td>int64</td>\n",
              "    </tr>\n",
              "    <tr>\n",
              "      <th>1</th>\n",
              "      <td>ID</td>\n",
              "      <td>12667</td>\n",
              "      <td>117</td>\n",
              "      <td>object</td>\n",
              "    </tr>\n",
              "    <tr>\n",
              "      <th>2</th>\n",
              "      <td>Score/Recommendation</td>\n",
              "      <td>12667</td>\n",
              "      <td>6</td>\n",
              "      <td>int64</td>\n",
              "    </tr>\n",
              "    <tr>\n",
              "      <th>3</th>\n",
              "      <td>Text</td>\n",
              "      <td>12450</td>\n",
              "      <td>12110</td>\n",
              "      <td>object</td>\n",
              "    </tr>\n",
              "    <tr>\n",
              "      <th>4</th>\n",
              "      <td>filtered</td>\n",
              "      <td>12449</td>\n",
              "      <td>12117</td>\n",
              "      <td>object</td>\n",
              "    </tr>\n",
              "    <tr>\n",
              "      <th>5</th>\n",
              "      <td>loc</td>\n",
              "      <td>12667</td>\n",
              "      <td>1</td>\n",
              "      <td>int64</td>\n",
              "    </tr>\n",
              "    <tr>\n",
              "      <th>6</th>\n",
              "      <td>lang</td>\n",
              "      <td>12667</td>\n",
              "      <td>42</td>\n",
              "      <td>object</td>\n",
              "    </tr>\n",
              "    <tr>\n",
              "      <th>7</th>\n",
              "      <td>lang_name</td>\n",
              "      <td>12667</td>\n",
              "      <td>42</td>\n",
              "      <td>object</td>\n",
              "    </tr>\n",
              "  </tbody>\n",
              "</table>\n",
              "</div>"
            ],
            "text/plain": [
              "                colName  non-null values  unique   dtype\n",
              "0                 index            12667   12667   int64\n",
              "1                    ID            12667     117  object\n",
              "2  Score/Recommendation            12667       6   int64\n",
              "3                  Text            12450   12110  object\n",
              "4              filtered            12449   12117  object\n",
              "5                   loc            12667       1   int64\n",
              "6                  lang            12667      42  object\n",
              "7             lang_name            12667      42  object"
            ]
          },
          "metadata": {
            "tags": []
          },
          "execution_count": 5
        }
      ]
    },
    {
      "cell_type": "code",
      "metadata": {
        "colab": {
          "base_uri": "https://localhost:8080/"
        },
        "id": "AqtHKD0Lhb-A",
        "outputId": "8016788d-2e2a-4099-b7f2-3bac328d18e9"
      },
      "source": [
        "df.loc[df['lang']=='en','Text']"
      ],
      "execution_count": null,
      "outputs": [
        {
          "output_type": "execute_result",
          "data": {
            "text/plain": [
              "4                               Use VPN to run the game👍👍👍\n",
              "8        Wonderful Game! I love the concept of rts + fp...\n",
              "9        What if you open it and flash back? (WIN10)\\nA...\n",
              "10       ----------------------------------------------...\n",
              "11       Played a lot of this on the Switch, and boy do...\n",
              "                               ...                        \n",
              "12557    Can't even connect to the firsr playable area....\n",
              "12607                             I want language thailand\n",
              "12612    (Español) Su juego esta increible pero me gust...\n",
              "12654    This is the best game if you are English then ...\n",
              "12666    I really like this game but they should update...\n",
              "Name: Text, Length: 1816, dtype: object"
            ]
          },
          "metadata": {
            "tags": []
          },
          "execution_count": 6
        }
      ]
    },
    {
      "cell_type": "code",
      "metadata": {
        "colab": {
          "base_uri": "https://localhost:8080/"
        },
        "id": "LF_TYZRFiY4W",
        "outputId": "d16c2fa8-edc9-47e9-94b1-5f8a73b95b36"
      },
      "source": [
        "def lenstr(text):\n",
        "  return len(text)\n",
        "\n",
        "df['lenstr']=df['filtered'].astype('str').apply(lenstr)\n",
        "df.loc[4,'lenstr']"
      ],
      "execution_count": null,
      "outputs": [
        {
          "output_type": "execute_result",
          "data": {
            "text/plain": [
              "24"
            ]
          },
          "metadata": {
            "tags": []
          },
          "execution_count": 16
        }
      ]
    },
    {
      "cell_type": "code",
      "metadata": {
        "colab": {
          "base_uri": "https://localhost:8080/"
        },
        "id": "0TWOC9Wyj0O-",
        "outputId": "7bd4ea96-5171-4ad3-fa7a-e6b5e8e37c67"
      },
      "source": [
        "df['lenstr'].max()"
      ],
      "execution_count": null,
      "outputs": [
        {
          "output_type": "execute_result",
          "data": {
            "text/plain": [
              "32239"
            ]
          },
          "metadata": {
            "tags": []
          },
          "execution_count": 17
        }
      ]
    },
    {
      "cell_type": "code",
      "metadata": {
        "colab": {
          "base_uri": "https://localhost:8080/"
        },
        "id": "seZUdMzSjr-I",
        "outputId": "7a989851-dd8d-44c3-db64-c1daf176b9fb"
      },
      "source": [
        "df['lenstr'].argmax()"
      ],
      "execution_count": null,
      "outputs": [
        {
          "output_type": "execute_result",
          "data": {
            "text/plain": [
              "10876"
            ]
          },
          "metadata": {
            "tags": []
          },
          "execution_count": 18
        }
      ]
    },
    {
      "cell_type": "code",
      "metadata": {
        "colab": {
          "base_uri": "https://localhost:8080/"
        },
        "id": "lxr9BitMlWxe",
        "outputId": "b4c223f6-29c2-4e7e-d1f0-17841932137e"
      },
      "source": [
        "df.loc[10876]"
      ],
      "execution_count": null,
      "outputs": [
        {
          "output_type": "execute_result",
          "data": {
            "text/plain": [
              "index                                                               10876\n",
              "ID                                                               title898\n",
              "Score/Recommendation                                                    5\n",
              "Text                    kkkkkkkkkkkkkkkkkkkkkkkkkkkkkkkkkkkkkkkkkkkkkk...\n",
              "filtered                kkkkkkkkkkkkkkkkkkkkkkkkkkkkkkkkkkkkkkkkkkkkkk...\n",
              "loc                                                                     1\n",
              "lang                                                                   fr\n",
              "lang_name                                                          french\n",
              "lenstr                                                              32239\n",
              "Name: 10876, dtype: object"
            ]
          },
          "metadata": {
            "tags": []
          },
          "execution_count": 21
        }
      ]
    },
    {
      "cell_type": "code",
      "metadata": {
        "id": "hQqM5DE4qXRL"
      },
      "source": [
        "df['filtered']=df['filtered'].astype(str)\n",
        "df['filtered']=df['filtered'].str.casefold()"
      ],
      "execution_count": null,
      "outputs": []
    },
    {
      "cell_type": "code",
      "metadata": {
        "id": "pc7EQ9SOVfTU"
      },
      "source": [
        "def isNotBlank (myString):\n",
        "    return bool(myString and myString.strip())\n",
        "\n",
        "df['isnotblank']=df['filtered'].apply(isNotBlank)\n",
        "df['isnotblank']=df['isnotblank']*1"
      ],
      "execution_count": null,
      "outputs": []
    },
    {
      "cell_type": "code",
      "metadata": {
        "colab": {
          "base_uri": "https://localhost:8080/"
        },
        "id": "LyTs_hPzg7gH",
        "outputId": "fb2a305f-8394-4d5f-d75d-1c1d85be9e94"
      },
      "source": [
        "df['isnotblank'].sum()"
      ],
      "execution_count": null,
      "outputs": [
        {
          "output_type": "execute_result",
          "data": {
            "text/plain": [
              "12667"
            ]
          },
          "metadata": {
            "tags": []
          },
          "execution_count": 11
        }
      ]
    },
    {
      "cell_type": "markdown",
      "metadata": {
        "id": "PLLoC4QIhZFf"
      },
      "source": [
        "No empty strings"
      ]
    },
    {
      "cell_type": "code",
      "metadata": {
        "id": "G3r6SO3Nlkrm"
      },
      "source": [
        "keywords=pd.read_excel('/content/drive/MyDrive/data/Keywords.xlsx')"
      ],
      "execution_count": null,
      "outputs": []
    },
    {
      "cell_type": "code",
      "metadata": {
        "colab": {
          "base_uri": "https://localhost:8080/"
        },
        "id": "T4UXuMyhl3Pq",
        "outputId": "cb3a2bb8-64ed-44fd-f354-a2dcec799d26"
      },
      "source": [
        "for col in ['Language combination', '\"Translation\"', '\"Language\"', '\"Localization\"',\n",
        "       '\"English\"', 'Language', 'ISO 639-1','ISO 3166-1-alpha-2']:\n",
        "  keywords[col]=keywords[col].str.casefold()\n",
        "\n",
        "keys = ['翻译', '语言', '中文',  '中国',  '汉语', '本土化', '英语', '版本',\n",
        "        '区域', '跨地区', '地区','华语', '汉化', '英文', '国家', '国服', 'VPN','vpn']\n",
        "\n",
        "langlist=[]\n",
        "for i in keywords.index:\n",
        "  langlist+=list(keywords.loc[i,['\"Translation\"', '\"Language\"', '\"Localization\"','\"English\"', 'Language']].values)\n",
        "  \n",
        "langlist=langlist+keys \n",
        "\n",
        "for i,key in enumerate(langlist):\n",
        "  langlist[i]=str(key).strip()\n",
        "\n",
        "langlist.remove('nan')\n",
        "print(langlist)"
      ],
      "execution_count": null,
      "outputs": [
        {
          "output_type": "stream",
          "text": [
            "['traduction', 'la langue', 'localisation', 'anglais', 'français', 'übersetzung', 'sprache', 'lokalisierung', 'englisch', 'deutsch', 'traduzione', 'lingua', 'localizzazione', 'inglese', 'italiano', 'traducción', 'idioma', 'localización', 'inglés', 'español', '翻译', '语言', '本土化', '英语', '中国', '翻譯', '語言', '本土化', '英語', '中國', '翻訳', '言語', '局地化', '英語', '日本', '번역', '언어', '지방화', '영어', '한국', 'tradução', 'língua', 'localização', 'inglês', 'portugues', 'tradução', 'língua', 'localização', 'inglês', 'portugues', 'tłumaczenie', 'język', 'lokalizacja', 'angielski', 'polski', 'çeviri', 'dil', 'yerelleştirme', 'i̇ngilizce', 'türk', 'ترجمة', 'لغة', 'الموقع', 'الإنجليزية', 'العربية', 'перевод', 'язык', 'локализация', 'английский', 'русский', 'vertaling', 'taal', 'lokalisatie', 'engels', 'nederlands', 'översättning', 'språk', 'lokalisering', 'engelska', 'svenska', 'oversættelse', 'sprog', 'lokalisering', 'engelsk', 'dansk', 'překlad', 'jazyk', 'lokalizace', 'anglický', 'česky', 'käännös', 'kieli', 'lokalisointi', 'englanti', 'suomalainen', 'μετάφραση', 'γλώσσα', 'εντοπισμόσ', 'αγγλικά', 'ελληνικά', 'oversettelse', 'språk', 'lokalisering', 'engelsk', 'norsk', 'þýðing', 'tungumál', 'staðsetning', 'ensku', 'íslensku', 'dịch', 'ngôn ngữ', 'nội địa hoá', 'tiếng anh', 'tiếng việt', 'अनुवाद', 'भाषा', 'स्थानीयकरण', 'अंग्रेजी', 'हिन्दी', 'terjemahan', 'bahasa', 'penyetempatan', 'bahasa inggris', 'indonesia', 'การแปล', 'ภาษา', 'การ จำกัด', 'อังกฤษ', 'ไทย', 'terjemahan', 'bahasa', 'penyetempatan', 'bahasa inggeris', 'melayu', 'תִרגוּם', 'שָׂפָה', 'לוקליזציה', 'אנגלית', 'עברית', 'translation', 'language', 'localization', 'english', 'english', 'nan', 'nan', 'nan', 'nan', '翻译', '语言', '中文', '中国', '汉语', '本土化', '英语', '版本', '区域', '跨地区', '地区', '华语', '汉化', '英文', '国家', '国服', 'VPN', 'vpn']\n"
          ],
          "name": "stdout"
        }
      ]
    },
    {
      "cell_type": "code",
      "metadata": {
        "id": "BMoAvtD9lfVn"
      },
      "source": [
        "def splitdata(text):\n",
        "  flist=[]\n",
        "  #extratext=[]\n",
        "  #l=0\n",
        "  for w in langlist:\n",
        "    for string in text.split(\".\"):\n",
        "      #text=unicodedata.normalize('NFKD','guzel ama turkce dıl destegıde olsun..')\n",
        "      match = re.compile(r'\\b{0}\\b'.format(unicodedata.normalize('NFKD',w)), flags=re.IGNORECASE)\n",
        "      if re.search(match,unicodedata.normalize('NFKD',string)):\n",
        "        #l+=len(string)\n",
        "        #while l<5000:\n",
        "        if unicodedata.normalize('NFKD',string) not in unicodedata.normalize('NFKD',flist):\n",
        "          flist.append(string)\n",
        "        #else:\n",
        "          #extratext.append(string)\n",
        "         \n",
        "  return '.'.join(flist) #, ' '.join(extratext)\n",
        "\n",
        "\n"
      ],
      "execution_count": null,
      "outputs": []
    },
    {
      "cell_type": "code",
      "metadata": {
        "id": "gCXmmetADnrA"
      },
      "source": [
        "\n",
        "df['shorttext']=df['filtered'].apply(lambda x:splitdata(x))\n"
      ],
      "execution_count": null,
      "outputs": []
    },
    {
      "cell_type": "code",
      "metadata": {
        "colab": {
          "base_uri": "https://localhost:8080/"
        },
        "id": "ydJQZYqAuEKu",
        "outputId": "f384064b-0c27-424b-8038-d4ec444b9cb9"
      },
      "source": [
        "print(df['Text'].dtype)\n",
        "print(df['shorttext'].dtype)"
      ],
      "execution_count": null,
      "outputs": [
        {
          "output_type": "stream",
          "text": [
            "object\n",
            "object\n"
          ],
          "name": "stdout"
        }
      ]
    },
    {
      "cell_type": "code",
      "metadata": {
        "id": "Wy6Ny0VsO3Rl"
      },
      "source": [
        "df['len_shorttext']=df['shorttext'].apply(lambda x: len(x))"
      ],
      "execution_count": null,
      "outputs": []
    },
    {
      "cell_type": "code",
      "metadata": {
        "id": "K5uRoqLb4SLD"
      },
      "source": [
        "#df.loc[3806]"
      ],
      "execution_count": null,
      "outputs": []
    },
    {
      "cell_type": "code",
      "metadata": {
        "id": "SIm1laqZwuuu"
      },
      "source": [
        "longtext=df['len_shorttext'].sort_values(ascending=False).reset_index().head(2)['index']\n",
        "#head(18)['index']"
      ],
      "execution_count": null,
      "outputs": []
    },
    {
      "cell_type": "code",
      "metadata": {
        "colab": {
          "base_uri": "https://localhost:8080/"
        },
        "id": "TLXzgFyTVrOp",
        "outputId": "4de8d7c7-c089-4d75-ae5b-bc3ae766ac9a"
      },
      "source": [
        "pip install deep-translator"
      ],
      "execution_count": null,
      "outputs": [
        {
          "output_type": "stream",
          "text": [
            "Collecting deep-translator\n",
            "  Downloading https://files.pythonhosted.org/packages/67/b3/53b50057bf1a5ebbb8a77c19c42ae721129ebe1b8478029f2121a5914f07/deep_translator-1.4.2-py2.py3-none-any.whl\n",
            "Requirement already satisfied: requests in /usr/local/lib/python3.7/dist-packages (from deep-translator) (2.23.0)\n",
            "Requirement already satisfied: beautifulsoup4 in /usr/local/lib/python3.7/dist-packages (from deep-translator) (4.6.3)\n",
            "Requirement already satisfied: idna<3,>=2.5 in /usr/local/lib/python3.7/dist-packages (from requests->deep-translator) (2.10)\n",
            "Requirement already satisfied: urllib3!=1.25.0,!=1.25.1,<1.26,>=1.21.1 in /usr/local/lib/python3.7/dist-packages (from requests->deep-translator) (1.24.3)\n",
            "Requirement already satisfied: chardet<4,>=3.0.2 in /usr/local/lib/python3.7/dist-packages (from requests->deep-translator) (3.0.4)\n",
            "Requirement already satisfied: certifi>=2017.4.17 in /usr/local/lib/python3.7/dist-packages (from requests->deep-translator) (2020.12.5)\n",
            "Installing collected packages: deep-translator\n",
            "Successfully installed deep-translator-1.4.2\n"
          ],
          "name": "stdout"
        }
      ]
    },
    {
      "cell_type": "code",
      "metadata": {
        "id": "dUtO8rAlVraB"
      },
      "source": [
        "from deep_translator import GoogleTranslator"
      ],
      "execution_count": null,
      "outputs": []
    },
    {
      "cell_type": "code",
      "metadata": {
        "id": "OxKu63iOV1nS"
      },
      "source": [
        "def translate(text):\n",
        "  translated = GoogleTranslator(source='auto', target='english').translate(text)                 \n",
        "  return translated"
      ],
      "execution_count": null,
      "outputs": []
    },
    {
      "cell_type": "code",
      "metadata": {
        "colab": {
          "base_uri": "https://localhost:8080/"
        },
        "id": "ZB1qk-6xTsPJ",
        "outputId": "7394b6db-0bc9-427f-90cf-d51e3e2a349f"
      },
      "source": [
        "df.loc[~df.index.isin(longtext)].nunique() "
      ],
      "execution_count": null,
      "outputs": [
        {
          "output_type": "execute_result",
          "data": {
            "text/plain": [
              "index                   12665\n",
              "ID                        117\n",
              "Score/Recommendation        6\n",
              "Text                    12108\n",
              "filtered                12011\n",
              "loc                         1\n",
              "lang                       42\n",
              "lang_name                  42\n",
              "shorttext               11881\n",
              "len_shorttext             795\n",
              "dtype: int64"
            ]
          },
          "metadata": {
            "tags": []
          },
          "execution_count": 65
        }
      ]
    },
    {
      "cell_type": "code",
      "metadata": {
        "id": "kzeDs9Ayu_QE"
      },
      "source": [
        "df['translated_text']=df.loc[~df.index.isin(longtext),'shorttext'].apply(translate)"
      ],
      "execution_count": null,
      "outputs": []
    },
    {
      "cell_type": "code",
      "metadata": {
        "colab": {
          "base_uri": "https://localhost:8080/",
          "height": 17
        },
        "id": "ndg8y6YaFPBv",
        "outputId": "45d8a680-1d64-4ec8-e1cd-bbf205aa2783"
      },
      "source": [
        "df.to_csv('translated_reviews.csv',index=False)\n",
        "from google.colab import files\n",
        "files.download(\"translated_reviews.csv\")"
      ],
      "execution_count": null,
      "outputs": [
        {
          "output_type": "display_data",
          "data": {
            "application/javascript": [
              "\n",
              "    async function download(id, filename, size) {\n",
              "      if (!google.colab.kernel.accessAllowed) {\n",
              "        return;\n",
              "      }\n",
              "      const div = document.createElement('div');\n",
              "      const label = document.createElement('label');\n",
              "      label.textContent = `Downloading \"${filename}\": `;\n",
              "      div.appendChild(label);\n",
              "      const progress = document.createElement('progress');\n",
              "      progress.max = size;\n",
              "      div.appendChild(progress);\n",
              "      document.body.appendChild(div);\n",
              "\n",
              "      const buffers = [];\n",
              "      let downloaded = 0;\n",
              "\n",
              "      const channel = await google.colab.kernel.comms.open(id);\n",
              "      // Send a message to notify the kernel that we're ready.\n",
              "      channel.send({})\n",
              "\n",
              "      for await (const message of channel.messages) {\n",
              "        // Send a message to notify the kernel that we're ready.\n",
              "        channel.send({})\n",
              "        if (message.buffers) {\n",
              "          for (const buffer of message.buffers) {\n",
              "            buffers.push(buffer);\n",
              "            downloaded += buffer.byteLength;\n",
              "            progress.value = downloaded;\n",
              "          }\n",
              "        }\n",
              "      }\n",
              "      const blob = new Blob(buffers, {type: 'application/binary'});\n",
              "      const a = document.createElement('a');\n",
              "      a.href = window.URL.createObjectURL(blob);\n",
              "      a.download = filename;\n",
              "      div.appendChild(a);\n",
              "      a.click();\n",
              "      div.remove();\n",
              "    }\n",
              "  "
            ],
            "text/plain": [
              "<IPython.core.display.Javascript object>"
            ]
          },
          "metadata": {
            "tags": []
          }
        },
        {
          "output_type": "display_data",
          "data": {
            "application/javascript": [
              "download(\"download_1da64436-d172-439c-bfdb-decfac49c76e\", \"translated_reviews.csv\", 10478346)"
            ],
            "text/plain": [
              "<IPython.core.display.Javascript object>"
            ]
          },
          "metadata": {
            "tags": []
          }
        }
      ]
    },
    {
      "cell_type": "code",
      "metadata": {
        "id": "yNUtm9JwWSkL"
      },
      "source": [
        ""
      ],
      "execution_count": null,
      "outputs": []
    },
    {
      "cell_type": "markdown",
      "metadata": {
        "id": "PTKuVMt02EiF"
      },
      "source": [
        "Classification of Reviews"
      ]
    },
    {
      "cell_type": "code",
      "metadata": {
        "id": "L6n1HoOaD8vO"
      },
      "source": [
        "import pandas as pd\n",
        "import numpy as np\n",
        "import re\n",
        "import unicodedata\n",
        "import spacy\n",
        "import gensim\n",
        "from gensim import corpora"
      ],
      "execution_count": null,
      "outputs": []
    },
    {
      "cell_type": "code",
      "metadata": {
        "id": "fcFjPMZEhYLv"
      },
      "source": [
        "import seaborn as sns\n",
        "import matplotlib.pyplot as plt"
      ],
      "execution_count": null,
      "outputs": []
    },
    {
      "cell_type": "code",
      "metadata": {
        "colab": {
          "base_uri": "https://localhost:8080/"
        },
        "id": "xpl8KSlheQJd",
        "outputId": "3d76ca18-af52-42e7-ae53-c28311eb19ce"
      },
      "source": [
        "import nltk\n",
        "from nltk import FreqDist\n",
        "nltk.download('stopwords')"
      ],
      "execution_count": null,
      "outputs": [
        {
          "output_type": "stream",
          "text": [
            "[nltk_data] Downloading package stopwords to /root/nltk_data...\n",
            "[nltk_data]   Unzipping corpora/stopwords.zip.\n"
          ],
          "name": "stdout"
        },
        {
          "output_type": "execute_result",
          "data": {
            "text/plain": [
              "True"
            ]
          },
          "metadata": {
            "tags": []
          },
          "execution_count": 3
        }
      ]
    },
    {
      "cell_type": "code",
      "metadata": {
        "colab": {
          "base_uri": "https://localhost:8080/"
        },
        "id": "LucNPpX3EAq1",
        "outputId": "94859b20-6fcb-4f29-c385-c05229ce69eb"
      },
      "source": [
        "from google.colab import drive\n",
        "drive.mount('/content/drive')"
      ],
      "execution_count": null,
      "outputs": [
        {
          "output_type": "stream",
          "text": [
            "Mounted at /content/drive\n"
          ],
          "name": "stdout"
        }
      ]
    },
    {
      "cell_type": "code",
      "metadata": {
        "id": "pHBqePQVEAoF"
      },
      "source": [
        "df=pd.read_csv('/content/drive/MyDrive/translated_reviews.csv',engine='python')"
      ],
      "execution_count": null,
      "outputs": []
    },
    {
      "cell_type": "code",
      "metadata": {
        "id": "rglmWybeEAlS",
        "colab": {
          "base_uri": "https://localhost:8080/",
          "height": 391
        },
        "outputId": "5cb6d707-c274-4d73-872c-1fa2634fa1a7"
      },
      "source": [
        "df.head()"
      ],
      "execution_count": null,
      "outputs": [
        {
          "output_type": "execute_result",
          "data": {
            "text/html": [
              "<div>\n",
              "<style scoped>\n",
              "    .dataframe tbody tr th:only-of-type {\n",
              "        vertical-align: middle;\n",
              "    }\n",
              "\n",
              "    .dataframe tbody tr th {\n",
              "        vertical-align: top;\n",
              "    }\n",
              "\n",
              "    .dataframe thead th {\n",
              "        text-align: right;\n",
              "    }\n",
              "</style>\n",
              "<table border=\"1\" class=\"dataframe\">\n",
              "  <thead>\n",
              "    <tr style=\"text-align: right;\">\n",
              "      <th></th>\n",
              "      <th>index</th>\n",
              "      <th>ID</th>\n",
              "      <th>Score/Recommendation</th>\n",
              "      <th>Text</th>\n",
              "      <th>filtered</th>\n",
              "      <th>loc</th>\n",
              "      <th>lang</th>\n",
              "      <th>lang_name</th>\n",
              "      <th>isnotblank</th>\n",
              "      <th>shorttext</th>\n",
              "      <th>len_shorttext</th>\n",
              "      <th>translated_text</th>\n",
              "    </tr>\n",
              "  </thead>\n",
              "  <tbody>\n",
              "    <tr>\n",
              "      <th>0</th>\n",
              "      <td>0</td>\n",
              "      <td>title777</td>\n",
              "      <td>5</td>\n",
              "      <td>Excellent en français et connexion Facebook sa...</td>\n",
              "      <td>excellent en français et connexion facebook sa...</td>\n",
              "      <td>1</td>\n",
              "      <td>fr</td>\n",
              "      <td>french</td>\n",
              "      <td>1</td>\n",
              "      <td>excellent en français et connexion facebook sa...</td>\n",
              "      <td>52</td>\n",
              "      <td>excellent in French and facebook connection wi...</td>\n",
              "    </tr>\n",
              "    <tr>\n",
              "      <th>1</th>\n",
              "      <td>1</td>\n",
              "      <td>title777</td>\n",
              "      <td>5</td>\n",
              "      <td>Muito viciante! Amei. Só achei ruim a demora p...</td>\n",
              "      <td>muito viciante! amei. só achei ruim a demora p...</td>\n",
              "      <td>1</td>\n",
              "      <td>pt</td>\n",
              "      <td>portuguese (eur)</td>\n",
              "      <td>1</td>\n",
              "      <td>não colocaram o idioma em português</td>\n",
              "      <td>36</td>\n",
              "      <td>did not put the language in Portuguese</td>\n",
              "    </tr>\n",
              "    <tr>\n",
              "      <th>2</th>\n",
              "      <td>2</td>\n",
              "      <td>title777</td>\n",
              "      <td>3</td>\n",
              "      <td>Super ciężka gra... 😐 Ale za to fajna bardzo p...</td>\n",
              "      <td>super ciężka gra...   ale za to fajna bardzo p...</td>\n",
              "      <td>1</td>\n",
              "      <td>pl</td>\n",
              "      <td>polish</td>\n",
              "      <td>1</td>\n",
              "      <td>ale za to fajna bardzo proszę o język polsk...</td>\n",
              "      <td>183</td>\n",
              "      <td>but nice, I am asking for the Polish language,...</td>\n",
              "    </tr>\n",
              "    <tr>\n",
              "      <th>3</th>\n",
              "      <td>3</td>\n",
              "      <td>title777</td>\n",
              "      <td>4</td>\n",
              "      <td>Naprawdę fajna gra jak na nową grę :) jednak c...</td>\n",
              "      <td>naprawdę fajna gra jak na nową grę :) jednak c...</td>\n",
              "      <td>1</td>\n",
              "      <td>pl</td>\n",
              "      <td>polish</td>\n",
              "      <td>1</td>\n",
              "      <td>naprawdę fajna gra jak na nową grę :) jednak c...</td>\n",
              "      <td>173</td>\n",
              "      <td>really cool game for a new game :) but I would...</td>\n",
              "    </tr>\n",
              "    <tr>\n",
              "      <th>4</th>\n",
              "      <td>4</td>\n",
              "      <td>title178</td>\n",
              "      <td>5</td>\n",
              "      <td>Use VPN to run the game👍👍👍</td>\n",
              "      <td>use vpn to run the game</td>\n",
              "      <td>1</td>\n",
              "      <td>en</td>\n",
              "      <td>english</td>\n",
              "      <td>1</td>\n",
              "      <td>use vpn to run the game  use vpn to run the game</td>\n",
              "      <td>49</td>\n",
              "      <td>use vpn to run the game  use vpn to run the game</td>\n",
              "    </tr>\n",
              "  </tbody>\n",
              "</table>\n",
              "</div>"
            ],
            "text/plain": [
              "   index  ...                                    translated_text\n",
              "0      0  ...  excellent in French and facebook connection wi...\n",
              "1      1  ...             did not put the language in Portuguese\n",
              "2      2  ...  but nice, I am asking for the Polish language,...\n",
              "3      3  ...  really cool game for a new game :) but I would...\n",
              "4      4  ...   use vpn to run the game  use vpn to run the game\n",
              "\n",
              "[5 rows x 12 columns]"
            ]
          },
          "metadata": {
            "tags": []
          },
          "execution_count": 6
        }
      ]
    },
    {
      "cell_type": "code",
      "metadata": {
        "colab": {
          "base_uri": "https://localhost:8080/",
          "height": 52
        },
        "id": "m4q_t-R9hszm",
        "outputId": "b2501092-8832-4d33-e8c1-5d5674280acc"
      },
      "source": [
        "df.loc[3,'translated_text']"
      ],
      "execution_count": null,
      "outputs": [
        {
          "output_type": "execute_result",
          "data": {
            "application/vnd.google.colaboratory.intrinsic+json": {
              "type": "string"
            },
            "text/plain": [
              "'really cool game for a new game :) but I would like the developers to add Polish really cool game for a new game :) but I would like the creators to add Polish'"
            ]
          },
          "metadata": {
            "tags": []
          },
          "execution_count": 7
        }
      ]
    },
    {
      "cell_type": "code",
      "metadata": {
        "id": "EfpcBc-2PR4W"
      },
      "source": [
        "df['translated_text']=df['translated_text'].astype(str)\n",
        "df['translated_text']=df['translated_text'].str.casefold()"
      ],
      "execution_count": null,
      "outputs": []
    },
    {
      "cell_type": "code",
      "metadata": {
        "colab": {
          "base_uri": "https://localhost:8080/"
        },
        "id": "dUl04XeoftgW",
        "outputId": "6cc6d311-cb0a-4470-db69-a427046d5aeb"
      },
      "source": [
        "pip install textblob"
      ],
      "execution_count": null,
      "outputs": [
        {
          "output_type": "stream",
          "text": [
            "Requirement already satisfied: textblob in /usr/local/lib/python3.7/dist-packages (0.15.3)\n",
            "Requirement already satisfied: nltk>=3.1 in /usr/local/lib/python3.7/dist-packages (from textblob) (3.2.5)\n",
            "Requirement already satisfied: six in /usr/local/lib/python3.7/dist-packages (from nltk>=3.1->textblob) (1.15.0)\n"
          ],
          "name": "stdout"
        }
      ]
    },
    {
      "cell_type": "code",
      "metadata": {
        "id": "Hq8TYZvKQCV6"
      },
      "source": [
        "from textblob import TextBlob"
      ],
      "execution_count": null,
      "outputs": []
    },
    {
      "cell_type": "code",
      "metadata": {
        "id": "lSIhwIbrgcq3"
      },
      "source": [
        "def blob(text):\n",
        "  test=TextBlob(text)\n",
        "  p=test.sentiment.polarity\n",
        "  \n",
        "  return p #test.sentiment"
      ],
      "execution_count": null,
      "outputs": []
    },
    {
      "cell_type": "code",
      "metadata": {
        "id": "SwNq-HtqqiSb"
      },
      "source": [
        "df['polarity']=df['translated_text'].apply(blob)"
      ],
      "execution_count": null,
      "outputs": []
    },
    {
      "cell_type": "code",
      "metadata": {
        "colab": {
          "base_uri": "https://localhost:8080/",
          "height": 459
        },
        "id": "dtaGyHZord2h",
        "outputId": "dd9c7b55-498a-4bfa-f3c7-944cb172de0b"
      },
      "source": [
        "df.head()"
      ],
      "execution_count": null,
      "outputs": [
        {
          "output_type": "execute_result",
          "data": {
            "text/html": [
              "<div>\n",
              "<style scoped>\n",
              "    .dataframe tbody tr th:only-of-type {\n",
              "        vertical-align: middle;\n",
              "    }\n",
              "\n",
              "    .dataframe tbody tr th {\n",
              "        vertical-align: top;\n",
              "    }\n",
              "\n",
              "    .dataframe thead th {\n",
              "        text-align: right;\n",
              "    }\n",
              "</style>\n",
              "<table border=\"1\" class=\"dataframe\">\n",
              "  <thead>\n",
              "    <tr style=\"text-align: right;\">\n",
              "      <th></th>\n",
              "      <th>index</th>\n",
              "      <th>ID</th>\n",
              "      <th>Score/Recommendation</th>\n",
              "      <th>Text</th>\n",
              "      <th>filtered</th>\n",
              "      <th>loc</th>\n",
              "      <th>lang</th>\n",
              "      <th>lang_name</th>\n",
              "      <th>isnotblank</th>\n",
              "      <th>shorttext</th>\n",
              "      <th>len_shorttext</th>\n",
              "      <th>translated_text</th>\n",
              "      <th>polarity</th>\n",
              "    </tr>\n",
              "  </thead>\n",
              "  <tbody>\n",
              "    <tr>\n",
              "      <th>0</th>\n",
              "      <td>0</td>\n",
              "      <td>title777</td>\n",
              "      <td>5</td>\n",
              "      <td>Excellent en français et connexion Facebook sa...</td>\n",
              "      <td>excellent en français et connexion facebook sa...</td>\n",
              "      <td>1</td>\n",
              "      <td>fr</td>\n",
              "      <td>french</td>\n",
              "      <td>1</td>\n",
              "      <td>excellent en français et connexion facebook sa...</td>\n",
              "      <td>52</td>\n",
              "      <td>excellent in french and facebook connection wi...</td>\n",
              "      <td>0.500000</td>\n",
              "    </tr>\n",
              "    <tr>\n",
              "      <th>1</th>\n",
              "      <td>1</td>\n",
              "      <td>title777</td>\n",
              "      <td>5</td>\n",
              "      <td>Muito viciante! Amei. Só achei ruim a demora p...</td>\n",
              "      <td>muito viciante! amei. só achei ruim a demora p...</td>\n",
              "      <td>1</td>\n",
              "      <td>pt</td>\n",
              "      <td>portuguese (eur)</td>\n",
              "      <td>1</td>\n",
              "      <td>não colocaram o idioma em português</td>\n",
              "      <td>36</td>\n",
              "      <td>did not put the language in portuguese</td>\n",
              "      <td>0.000000</td>\n",
              "    </tr>\n",
              "    <tr>\n",
              "      <th>2</th>\n",
              "      <td>2</td>\n",
              "      <td>title777</td>\n",
              "      <td>3</td>\n",
              "      <td>Super ciężka gra... 😐 Ale za to fajna bardzo p...</td>\n",
              "      <td>super ciężka gra...   ale za to fajna bardzo p...</td>\n",
              "      <td>1</td>\n",
              "      <td>pl</td>\n",
              "      <td>polish</td>\n",
              "      <td>1</td>\n",
              "      <td>ale za to fajna bardzo proszę o język polsk...</td>\n",
              "      <td>183</td>\n",
              "      <td>but nice, i am asking for the polish language,...</td>\n",
              "      <td>-0.147222</td>\n",
              "    </tr>\n",
              "    <tr>\n",
              "      <th>3</th>\n",
              "      <td>3</td>\n",
              "      <td>title777</td>\n",
              "      <td>4</td>\n",
              "      <td>Naprawdę fajna gra jak na nową grę :) jednak c...</td>\n",
              "      <td>naprawdę fajna gra jak na nową grę :) jednak c...</td>\n",
              "      <td>1</td>\n",
              "      <td>pl</td>\n",
              "      <td>polish</td>\n",
              "      <td>1</td>\n",
              "      <td>naprawdę fajna gra jak na nową grę :) jednak c...</td>\n",
              "      <td>173</td>\n",
              "      <td>really cool game for a new game :) but i would...</td>\n",
              "      <td>0.037273</td>\n",
              "    </tr>\n",
              "    <tr>\n",
              "      <th>4</th>\n",
              "      <td>4</td>\n",
              "      <td>title178</td>\n",
              "      <td>5</td>\n",
              "      <td>Use VPN to run the game👍👍👍</td>\n",
              "      <td>use vpn to run the game</td>\n",
              "      <td>1</td>\n",
              "      <td>en</td>\n",
              "      <td>english</td>\n",
              "      <td>1</td>\n",
              "      <td>use vpn to run the game  use vpn to run the game</td>\n",
              "      <td>49</td>\n",
              "      <td>use vpn to run the game  use vpn to run the game</td>\n",
              "      <td>-0.400000</td>\n",
              "    </tr>\n",
              "  </tbody>\n",
              "</table>\n",
              "</div>"
            ],
            "text/plain": [
              "   index        ID  ...                                    translated_text  polarity\n",
              "0      0  title777  ...  excellent in french and facebook connection wi...  0.500000\n",
              "1      1  title777  ...             did not put the language in portuguese  0.000000\n",
              "2      2  title777  ...  but nice, i am asking for the polish language,... -0.147222\n",
              "3      3  title777  ...  really cool game for a new game :) but i would...  0.037273\n",
              "4      4  title178  ...   use vpn to run the game  use vpn to run the game -0.400000\n",
              "\n",
              "[5 rows x 13 columns]"
            ]
          },
          "metadata": {
            "tags": []
          },
          "execution_count": 13
        }
      ]
    },
    {
      "cell_type": "code",
      "metadata": {
        "id": "5omBr-ec0HXH"
      },
      "source": [
        "df['polarity']=df['polarity'].astype(float)"
      ],
      "execution_count": null,
      "outputs": []
    },
    {
      "cell_type": "code",
      "metadata": {
        "id": "KNB_esQpzI-D"
      },
      "source": [
        "df['sentiment']=''\n",
        "df.loc[df.polarity>0,'sentiment']='positive'\n",
        "df.loc[df.polarity==0,'sentiment']='neutral'\n",
        "df.loc[df.polarity<0,'sentiment']='negative'"
      ],
      "execution_count": null,
      "outputs": []
    },
    {
      "cell_type": "code",
      "metadata": {
        "colab": {
          "base_uri": "https://localhost:8080/"
        },
        "id": "2IH8FH2_zI1D",
        "outputId": "d72f40c0-e05a-4325-e0da-5348ea8dd951"
      },
      "source": [
        "df['sentiment'].value_counts()/len(df)"
      ],
      "execution_count": null,
      "outputs": [
        {
          "output_type": "execute_result",
          "data": {
            "text/plain": [
              "positive    0.417621\n",
              "neutral     0.360385\n",
              "negative    0.221994\n",
              "Name: sentiment, dtype: float64"
            ]
          },
          "metadata": {
            "tags": []
          },
          "execution_count": 16
        }
      ]
    },
    {
      "cell_type": "code",
      "metadata": {
        "colab": {
          "base_uri": "https://localhost:8080/"
        },
        "id": "CQS3TGbV0al7",
        "outputId": "0804a756-2c51-4745-9b30-1aed530b6854"
      },
      "source": [
        "pip install vaderSentiment"
      ],
      "execution_count": null,
      "outputs": [
        {
          "output_type": "stream",
          "text": [
            "Collecting vaderSentiment\n",
            "\u001b[?25l  Downloading https://files.pythonhosted.org/packages/76/fc/310e16254683c1ed35eeb97386986d6c00bc29df17ce280aed64d55537e9/vaderSentiment-3.3.2-py2.py3-none-any.whl (125kB)\n",
            "\r\u001b[K     |██▋                             | 10kB 18.0MB/s eta 0:00:01\r\u001b[K     |█████▏                          | 20kB 10.7MB/s eta 0:00:01\r\u001b[K     |███████▉                        | 30kB 8.6MB/s eta 0:00:01\r\u001b[K     |██████████▍                     | 40kB 7.7MB/s eta 0:00:01\r\u001b[K     |█████████████                   | 51kB 4.5MB/s eta 0:00:01\r\u001b[K     |███████████████▋                | 61kB 5.0MB/s eta 0:00:01\r\u001b[K     |██████████████████▏             | 71kB 5.1MB/s eta 0:00:01\r\u001b[K     |████████████████████▉           | 81kB 5.5MB/s eta 0:00:01\r\u001b[K     |███████████████████████▍        | 92kB 5.3MB/s eta 0:00:01\r\u001b[K     |██████████████████████████      | 102kB 4.4MB/s eta 0:00:01\r\u001b[K     |████████████████████████████▋   | 112kB 4.4MB/s eta 0:00:01\r\u001b[K     |███████████████████████████████▏| 122kB 4.4MB/s eta 0:00:01\r\u001b[K     |████████████████████████████████| 133kB 4.4MB/s \n",
            "\u001b[?25hRequirement already satisfied: requests in /usr/local/lib/python3.7/dist-packages (from vaderSentiment) (2.23.0)\n",
            "Requirement already satisfied: certifi>=2017.4.17 in /usr/local/lib/python3.7/dist-packages (from requests->vaderSentiment) (2020.12.5)\n",
            "Requirement already satisfied: idna<3,>=2.5 in /usr/local/lib/python3.7/dist-packages (from requests->vaderSentiment) (2.10)\n",
            "Requirement already satisfied: urllib3!=1.25.0,!=1.25.1,<1.26,>=1.21.1 in /usr/local/lib/python3.7/dist-packages (from requests->vaderSentiment) (1.24.3)\n",
            "Requirement already satisfied: chardet<4,>=3.0.2 in /usr/local/lib/python3.7/dist-packages (from requests->vaderSentiment) (3.0.4)\n",
            "Installing collected packages: vaderSentiment\n",
            "Successfully installed vaderSentiment-3.3.2\n"
          ],
          "name": "stdout"
        }
      ]
    },
    {
      "cell_type": "code",
      "metadata": {
        "id": "tsOlxlWj0oTz"
      },
      "source": [
        "from vaderSentiment.vaderSentiment import SentimentIntensityAnalyzer"
      ],
      "execution_count": null,
      "outputs": []
    },
    {
      "cell_type": "code",
      "metadata": {
        "id": "cFc_Bzjv0um1"
      },
      "source": [
        "analyzer = SentimentIntensityAnalyzer()"
      ],
      "execution_count": null,
      "outputs": []
    },
    {
      "cell_type": "code",
      "metadata": {
        "id": "5C0usl1P1Vtg"
      },
      "source": [
        "df['compound']=df['translated_text'].apply(lambda x: analyzer.polarity_scores(x)['compound'])"
      ],
      "execution_count": null,
      "outputs": []
    },
    {
      "cell_type": "code",
      "metadata": {
        "id": "WeMSLPp42Vlc"
      },
      "source": [
        "df['vader_sentiment']=''\n",
        "df.loc[df.compound>0,'vader_sentiment']='positive'\n",
        "df.loc[df.compound==0,'vader_sentiment']='neutral'\n",
        "df.loc[df.compound<0,'vader_sentiment']='negative'\n"
      ],
      "execution_count": null,
      "outputs": []
    },
    {
      "cell_type": "code",
      "metadata": {
        "colab": {
          "base_uri": "https://localhost:8080/"
        },
        "id": "T1a4ZFbH2q_W",
        "outputId": "e67ab78c-47e0-47d6-fb18-a6f35c408115"
      },
      "source": [
        "df['vader_sentiment'].value_counts()/len(df)"
      ],
      "execution_count": null,
      "outputs": [
        {
          "output_type": "execute_result",
          "data": {
            "text/plain": [
              "positive    0.605037\n",
              "neutral     0.218047\n",
              "negative    0.176916\n",
              "Name: vader_sentiment, dtype: float64"
            ]
          },
          "metadata": {
            "tags": []
          },
          "execution_count": 22
        }
      ]
    },
    {
      "cell_type": "code",
      "metadata": {
        "colab": {
          "base_uri": "https://localhost:8080/"
        },
        "id": "FCAV3mqx2vcX",
        "outputId": "68159072-e358-4124-9535-feb05bc792c1"
      },
      "source": [
        "df[df['sentiment']!=df['vader_sentiment']]['translated_text']"
      ],
      "execution_count": null,
      "outputs": [
        {
          "output_type": "execute_result",
          "data": {
            "text/plain": [
              "2        but nice, i am asking for the polish language,...\n",
              "4         use vpn to run the game  use vpn to run the game\n",
              "6               great game unfortunately but not in german\n",
              "8        its not my native language :) \\nsry if my engl...\n",
              "10       comes in english or japanese, but the japanese...\n",
              "                               ...                        \n",
              "12647    we will rate this game as game number 14 in in...\n",
              "12656    you pay attention to the developer there it sa...\n",
              "12660                          good game but no vietnamese\n",
              "12662                          it very good - fake english\n",
              "12666    i really like this game but they should update...\n",
              "Name: translated_text, Length: 4843, dtype: object"
            ]
          },
          "metadata": {
            "tags": []
          },
          "execution_count": 23
        }
      ]
    },
    {
      "cell_type": "code",
      "metadata": {
        "colab": {
          "base_uri": "https://localhost:8080/"
        },
        "id": "i5Oz9K4F4YUI",
        "outputId": "58bbe91c-abaa-493c-d2b2-3b1acec4d6c2"
      },
      "source": [
        "df.loc[12666,['sentiment','vader_sentiment','polarity','compound','translated_text']]"
      ],
      "execution_count": null,
      "outputs": [
        {
          "output_type": "execute_result",
          "data": {
            "text/plain": [
              "sentiment                                                   negative\n",
              "vader_sentiment                                             positive\n",
              "polarity                                                        -0.1\n",
              "compound                                                      0.2255\n",
              "translated_text    i really like this game but they should update...\n",
              "Name: 12666, dtype: object"
            ]
          },
          "metadata": {
            "tags": []
          },
          "execution_count": 24
        }
      ]
    },
    {
      "cell_type": "markdown",
      "metadata": {
        "id": "vsieGqhMcrXm"
      },
      "source": [
        "After manually reviewing some of the reviews, it seems TextBlob does a better job at identifying positive and negative reviews in context of localisation."
      ]
    },
    {
      "cell_type": "code",
      "metadata": {
        "id": "ILjp4dJ_fDFU"
      },
      "source": [
        "dfneg=df[(df['sentiment']=='negative') | (df['vader_sentiment']=='negative')]"
      ],
      "execution_count": null,
      "outputs": []
    },
    {
      "cell_type": "code",
      "metadata": {
        "colab": {
          "base_uri": "https://localhost:8080/"
        },
        "id": "3HgmU3I_c9MC",
        "outputId": "7bb08fe1-74ca-4051-8543-4a6387cfa89c"
      },
      "source": [
        "dfneg['cleaned_text'] = dfneg['translated_text'].str.replace(\"[^a-zA-Z#]\", \" \")"
      ],
      "execution_count": null,
      "outputs": [
        {
          "output_type": "stream",
          "text": [
            "/usr/local/lib/python3.7/dist-packages/ipykernel_launcher.py:1: SettingWithCopyWarning: \n",
            "A value is trying to be set on a copy of a slice from a DataFrame.\n",
            "Try using .loc[row_indexer,col_indexer] = value instead\n",
            "\n",
            "See the caveats in the documentation: https://pandas.pydata.org/pandas-docs/stable/user_guide/indexing.html#returning-a-view-versus-a-copy\n",
            "  \"\"\"Entry point for launching an IPython kernel.\n"
          ],
          "name": "stderr"
        }
      ]
    },
    {
      "cell_type": "code",
      "metadata": {
        "id": "_D0M_c_4gV3B"
      },
      "source": [
        "from nltk.corpus import stopwords\n",
        "stop_words = stopwords.words('english')"
      ],
      "execution_count": null,
      "outputs": []
    },
    {
      "cell_type": "code",
      "metadata": {
        "id": "CP9Xdrphgbzx"
      },
      "source": [
        "def remove_stopwords(rev):\n",
        "    rev_new = \" \".join([i for i in rev if i not in stop_words])\n",
        "    return rev_new\n",
        "\n",
        "# remove short words (length < 3)\n",
        "#df['reviewText'] = df['reviewText'].apply(lambda x: ' '.join([w for w in x.split() if len(w)>2]))\n",
        "\n",
        "# remove stopwords from the text\n",
        "reviews = [remove_stopwords(r.split()) for r in dfneg['cleaned_text']]\n",
        "\n",
        "# make entire text lowercase\n",
        "reviews = [r.lower() for r in reviews]"
      ],
      "execution_count": null,
      "outputs": []
    },
    {
      "cell_type": "code",
      "metadata": {
        "id": "C72wpG_UhCkn"
      },
      "source": [
        "def freq_words(x, terms = 30):\n",
        "  all_words = ' '.join([text for text in x])\n",
        "  all_words = all_words.split()\n",
        "\n",
        "  fdist = FreqDist(all_words)\n",
        "  words_df = pd.DataFrame({'word':list(fdist.keys()), 'count':list(fdist.values())})\n",
        "\n",
        "  # selecting top 20 most frequent words\n",
        "  d = words_df.nlargest(columns=\"count\", n = terms) \n",
        "  plt.figure(figsize=(20,5))\n",
        "  ax = sns.barplot(data=d, x= \"word\", y = \"count\")\n",
        "  ax.set(ylabel = 'Count')\n",
        "  plt.show()"
      ],
      "execution_count": null,
      "outputs": []
    },
    {
      "cell_type": "code",
      "metadata": {
        "colab": {
          "base_uri": "https://localhost:8080/",
          "height": 334
        },
        "id": "-snm1KOihqap",
        "outputId": "7b1fccfa-bd2a-4161-e76a-1212bcb7e261"
      },
      "source": [
        "freq_words(reviews, 35)"
      ],
      "execution_count": null,
      "outputs": [
        {
          "output_type": "display_data",
          "data": {
            "image/png": "[encoded data removed]",
            "text/plain": [
              "<Figure size 1440x360 with 1 Axes>"
            ]
          },
          "metadata": {
            "tags": [],
            "needs_background": "light"
          }
        }
      ]
    },
    {
      "cell_type": "code",
      "metadata": {
        "colab": {
          "base_uri": "https://localhost:8080/"
        },
        "id": "oAUHHeAihqXm",
        "outputId": "383827c8-a673-4a66-e94e-5a7277fdf3bf"
      },
      "source": [
        "!python -m spacy download en"
      ],
      "execution_count": null,
      "outputs": [
        {
          "output_type": "stream",
          "text": [
            "Requirement already satisfied: en_core_web_sm==2.2.5 from https://github.com/explosion/spacy-models/releases/download/en_core_web_sm-2.2.5/en_core_web_sm-2.2.5.tar.gz#egg=en_core_web_sm==2.2.5 in /usr/local/lib/python3.7/dist-packages (2.2.5)\n",
            "Requirement already satisfied: spacy>=2.2.2 in /usr/local/lib/python3.7/dist-packages (from en_core_web_sm==2.2.5) (2.2.4)\n",
            "Requirement already satisfied: thinc==7.4.0 in /usr/local/lib/python3.7/dist-packages (from spacy>=2.2.2->en_core_web_sm==2.2.5) (7.4.0)\n",
            "Requirement already satisfied: srsly<1.1.0,>=1.0.2 in /usr/local/lib/python3.7/dist-packages (from spacy>=2.2.2->en_core_web_sm==2.2.5) (1.0.5)\n",
            "Requirement already satisfied: numpy>=1.15.0 in /usr/local/lib/python3.7/dist-packages (from spacy>=2.2.2->en_core_web_sm==2.2.5) (1.19.5)\n",
            "Requirement already satisfied: requests<3.0.0,>=2.13.0 in /usr/local/lib/python3.7/dist-packages (from spacy>=2.2.2->en_core_web_sm==2.2.5) (2.23.0)\n",
            "Requirement already satisfied: preshed<3.1.0,>=3.0.2 in /usr/local/lib/python3.7/dist-packages (from spacy>=2.2.2->en_core_web_sm==2.2.5) (3.0.5)\n",
            "Requirement already satisfied: cymem<2.1.0,>=2.0.2 in /usr/local/lib/python3.7/dist-packages (from spacy>=2.2.2->en_core_web_sm==2.2.5) (2.0.5)\n",
            "Requirement already satisfied: tqdm<5.0.0,>=4.38.0 in /usr/local/lib/python3.7/dist-packages (from spacy>=2.2.2->en_core_web_sm==2.2.5) (4.41.1)\n",
            "Requirement already satisfied: setuptools in /usr/local/lib/python3.7/dist-packages (from spacy>=2.2.2->en_core_web_sm==2.2.5) (56.0.0)\n",
            "Requirement already satisfied: blis<0.5.0,>=0.4.0 in /usr/local/lib/python3.7/dist-packages (from spacy>=2.2.2->en_core_web_sm==2.2.5) (0.4.1)\n",
            "Requirement already satisfied: catalogue<1.1.0,>=0.0.7 in /usr/local/lib/python3.7/dist-packages (from spacy>=2.2.2->en_core_web_sm==2.2.5) (1.0.0)\n",
            "Requirement already satisfied: plac<1.2.0,>=0.9.6 in /usr/local/lib/python3.7/dist-packages (from spacy>=2.2.2->en_core_web_sm==2.2.5) (1.1.3)\n",
            "Requirement already satisfied: murmurhash<1.1.0,>=0.28.0 in /usr/local/lib/python3.7/dist-packages (from spacy>=2.2.2->en_core_web_sm==2.2.5) (1.0.5)\n",
            "Requirement already satisfied: wasabi<1.1.0,>=0.4.0 in /usr/local/lib/python3.7/dist-packages (from spacy>=2.2.2->en_core_web_sm==2.2.5) (0.8.2)\n",
            "Requirement already satisfied: certifi>=2017.4.17 in /usr/local/lib/python3.7/dist-packages (from requests<3.0.0,>=2.13.0->spacy>=2.2.2->en_core_web_sm==2.2.5) (2020.12.5)\n",
            "Requirement already satisfied: idna<3,>=2.5 in /usr/local/lib/python3.7/dist-packages (from requests<3.0.0,>=2.13.0->spacy>=2.2.2->en_core_web_sm==2.2.5) (2.10)\n",
            "Requirement already satisfied: chardet<4,>=3.0.2 in /usr/local/lib/python3.7/dist-packages (from requests<3.0.0,>=2.13.0->spacy>=2.2.2->en_core_web_sm==2.2.5) (3.0.4)\n",
            "Requirement already satisfied: urllib3!=1.25.0,!=1.25.1,<1.26,>=1.21.1 in /usr/local/lib/python3.7/dist-packages (from requests<3.0.0,>=2.13.0->spacy>=2.2.2->en_core_web_sm==2.2.5) (1.24.3)\n",
            "Requirement already satisfied: importlib-metadata>=0.20; python_version < \"3.8\" in /usr/local/lib/python3.7/dist-packages (from catalogue<1.1.0,>=0.0.7->spacy>=2.2.2->en_core_web_sm==2.2.5) (3.10.1)\n",
            "Requirement already satisfied: typing-extensions>=3.6.4; python_version < \"3.8\" in /usr/local/lib/python3.7/dist-packages (from importlib-metadata>=0.20; python_version < \"3.8\"->catalogue<1.1.0,>=0.0.7->spacy>=2.2.2->en_core_web_sm==2.2.5) (3.7.4.3)\n",
            "Requirement already satisfied: zipp>=0.5 in /usr/local/lib/python3.7/dist-packages (from importlib-metadata>=0.20; python_version < \"3.8\"->catalogue<1.1.0,>=0.0.7->spacy>=2.2.2->en_core_web_sm==2.2.5) (3.4.1)\n",
            "\u001b[38;5;2m✔ Download and installation successful\u001b[0m\n",
            "You can now load the model via spacy.load('en_core_web_sm')\n",
            "\u001b[38;5;2m✔ Linking successful\u001b[0m\n",
            "/usr/local/lib/python3.7/dist-packages/en_core_web_sm -->\n",
            "/usr/local/lib/python3.7/dist-packages/spacy/data/en\n",
            "You can now load the model via spacy.load('en')\n"
          ],
          "name": "stdout"
        }
      ]
    },
    {
      "cell_type": "code",
      "metadata": {
        "id": "WiJ4dH5Ph-Yx"
      },
      "source": [
        "nlp = spacy.load('en', disable=['parser', 'ner'])\n",
        "\n",
        "def lemmatization(texts): # filter noun and adjective\n",
        "       output = []\n",
        "       for sent in texts:\n",
        "             doc = nlp(\" \".join(sent)) \n",
        "             output.append([token.lemma_ for token in doc])\n",
        "       return output"
      ],
      "execution_count": null,
      "outputs": []
    },
    {
      "cell_type": "code",
      "metadata": {
        "id": "jXW2c6S8h-VT"
      },
      "source": [
        "tokenized_reviews = pd.Series(reviews).apply(lambda x: x.split())\n",
        "#print(tokenized_reviews[1])"
      ],
      "execution_count": null,
      "outputs": []
    },
    {
      "cell_type": "code",
      "metadata": {
        "id": "_misn5a7iLgi"
      },
      "source": [
        "reviews_2 = lemmatization(tokenized_reviews)\n",
        "#print(reviews_2[1]) # print lemmatized review"
      ],
      "execution_count": null,
      "outputs": []
    },
    {
      "cell_type": "code",
      "metadata": {
        "colab": {
          "base_uri": "https://localhost:8080/",
          "height": 436
        },
        "id": "071dtOqgiWuY",
        "outputId": "d74c605b-cdf8-445b-ee5e-5c511637018c"
      },
      "source": [
        "reviews_3 = []\n",
        "for i in range(len(reviews_2)):\n",
        "    reviews_3.append(' '.join(reviews_2[i]))\n",
        "\n",
        "dfneg['cleaned_text'] = reviews_3\n",
        "\n",
        "freq_words(dfneg['cleaned_text'], 35)"
      ],
      "execution_count": null,
      "outputs": [
        {
          "output_type": "stream",
          "text": [
            "/usr/local/lib/python3.7/dist-packages/ipykernel_launcher.py:5: SettingWithCopyWarning: \n",
            "A value is trying to be set on a copy of a slice from a DataFrame.\n",
            "Try using .loc[row_indexer,col_indexer] = value instead\n",
            "\n",
            "See the caveats in the documentation: https://pandas.pydata.org/pandas-docs/stable/user_guide/indexing.html#returning-a-view-versus-a-copy\n",
            "  \"\"\"\n"
          ],
          "name": "stderr"
        },
        {
          "output_type": "display_data",
          "data": {
            "image/png": "[encoded data removed]",
            "text/plain": [
              "<Figure size 1440x360 with 1 Axes>"
            ]
          },
          "metadata": {
            "tags": [],
            "needs_background": "light"
          }
        }
      ]
    },
    {
      "cell_type": "code",
      "metadata": {
        "id": "pgUEi0GSiWqz"
      },
      "source": [
        "dictionary = corpora.Dictionary(reviews_2)"
      ],
      "execution_count": null,
      "outputs": []
    },
    {
      "cell_type": "code",
      "metadata": {
        "id": "V0KFpXdLjx1J"
      },
      "source": [
        "doc_term_matrix = [dictionary.doc2bow(rev) for rev in reviews_2]\n"
      ],
      "execution_count": null,
      "outputs": []
    },
    {
      "cell_type": "code",
      "metadata": {
        "id": "Extihk8SjxxP"
      },
      "source": [
        "# Creating the object for LDA model using gensim library\n",
        "LDA = gensim.models.ldamodel.LdaModel\n",
        "\n",
        "# Build LDA model\n",
        "lda_model = LDA(corpus=doc_term_matrix, id2word=dictionary, num_topics=30, random_state=100,\n",
        "                chunksize=1000, passes=50)"
      ],
      "execution_count": null,
      "outputs": []
    },
    {
      "cell_type": "code",
      "metadata": {
        "colab": {
          "base_uri": "https://localhost:8080/"
        },
        "id": "r_QLf-ixknQ9",
        "outputId": "d7116eee-7fb4-40c7-98d1-25b14d37a7c1"
      },
      "source": [
        "lda_model.print_topics()"
      ],
      "execution_count": null,
      "outputs": [
        {
          "output_type": "execute_result",
          "data": {
            "text/plain": [
              "[(15,\n",
              "  '0.040*\"buy\" + 0.040*\"less\" + 0.030*\"player\" + 0.025*\"nah\" + 0.024*\"mission\" + 0.020*\"experience\" + 0.020*\"absolutely\" + 0.020*\"quality\" + 0.017*\"complain\" + 0.017*\"require\"'),\n",
              " (12,\n",
              "  '0.132*\"german\" + 0.113*\"russian\" + 0.064*\"game\" + 0.060*\"english\" + 0.045*\"everything\" + 0.029*\"shame\" + 0.026*\"one\" + 0.024*\"always\" + 0.024*\"year\" + 0.024*\"language\"'),\n",
              " (21,\n",
              "  '0.084*\"game\" + 0.067*\"spanish\" + 0.066*\"language\" + 0.059*\"vietnamese\" + 0.058*\"not\" + 0.052*\"translate\" + 0.050*\"can\" + 0.032*\"play\" + 0.032*\"thing\" + 0.030*\"miss\"'),\n",
              " (1,\n",
              "  '0.091*\"first\" + 0.061*\"english\" + 0.047*\"mistake\" + 0.043*\"suck\" + 0.034*\"enough\" + 0.025*\"send\" + 0.025*\"happen\" + 0.024*\"button\" + 0.020*\"often\" + 0.020*\"grammar\"'),\n",
              " (16,\n",
              "  '0.108*\"use\" + 0.088*\"game\" + 0.065*\"language\" + 0.058*\"word\" + 0.042*\"english\" + 0.030*\"try\" + 0.027*\"enter\" + 0.022*\"time\" + 0.021*\"play\" + 0.020*\"foreign\"'),\n",
              " (6,\n",
              "  '0.061*\"chinese\" + 0.056*\"game\" + 0.042*\"every\" + 0.035*\"find\" + 0.033*\"friend\" + 0.025*\"ok\" + 0.024*\"open\" + 0.020*\"allow\" + 0.020*\"get\" + 0.020*\"talk\"'),\n",
              " (24,\n",
              "  '0.117*\"nan\" + 0.112*\"time\" + 0.086*\"player\" + 0.053*\"long\" + 0.043*\"get\" + 0.029*\"must\" + 0.028*\"game\" + 0.027*\"take\" + 0.021*\"complete\" + 0.020*\"pass\"'),\n",
              " (14,\n",
              "  '0.048*\"nthe\" + 0.033*\"localization\" + 0.033*\"text\" + 0.032*\"sometimes\" + 0.032*\"end\" + 0.024*\"accept\" + 0.022*\"native\" + 0.021*\"boring\" + 0.018*\"weapon\" + 0.017*\"matter\"'),\n",
              " (22,\n",
              "  '0.066*\"fix\" + 0.064*\"lose\" + 0.055*\"vpn\" + 0.054*\"error\" + 0.038*\"available\" + 0.036*\"small\" + 0.030*\"internet\" + 0.029*\"chat\" + 0.028*\"bug\" + 0.027*\"without\"'),\n",
              " (13,\n",
              "  '0.035*\"tank\" + 0.028*\"learn\" + 0.013*\"plane\" + 0.012*\"want\" + 0.010*\"war\" + 0.009*\"english\" + 0.009*\"tutorial\" + 0.008*\"rank\" + 0.008*\"danish\" + 0.007*\"take\"'),\n",
              " (5,\n",
              "  '0.063*\"could\" + 0.031*\"continue\" + 0.026*\"leave\" + 0.026*\"place\" + 0.025*\"update\" + 0.025*\"since\" + 0.024*\"longer\" + 0.024*\"advertising\" + 0.023*\"real\" + 0.023*\"italian\"'),\n",
              " (11,\n",
              "  '0.056*\"work\" + 0.056*\"point\" + 0.038*\"admin\" + 0.028*\"fun\" + 0.026*\"vehicle\" + 0.019*\"fight\" + 0.018*\"one\" + 0.018*\"follow\" + 0.016*\"day\" + 0.016*\"run\"'),\n",
              " (0,\n",
              "  '0.162*\"please\" + 0.150*\"game\" + 0.102*\"add\" + 0.095*\"good\" + 0.093*\"indonesian\" + 0.046*\"need\" + 0.040*\"make\" + 0.027*\"lack\" + 0.021*\"give\" + 0.018*\"lot\"'),\n",
              " (10,\n",
              "  '0.204*\"indonesian\" + 0.076*\"update\" + 0.060*\"many\" + 0.037*\"difficult\" + 0.034*\"bit\" + 0.032*\"version\" + 0.032*\"still\" + 0.024*\"voice\" + 0.020*\"japanese\" + 0.020*\"also\"'),\n",
              " (3,\n",
              "  '0.173*\"understand\" + 0.130*\"english\" + 0.070*\"portuguese\" + 0.055*\"game\" + 0.033*\"pity\" + 0.027*\"say\" + 0.026*\"little\" + 0.024*\"anything\" + 0.019*\"know\" + 0.017*\"difficult\"'),\n",
              " (28,\n",
              "  '0.149*\"game\" + 0.143*\"french\" + 0.063*\"english\" + 0.061*\"put\" + 0.057*\"really\" + 0.043*\"well\" + 0.038*\"think\" + 0.036*\"bad\" + 0.035*\"cool\" + 0.029*\"great\"'),\n",
              " (9,\n",
              "  '0.059*\"even\" + 0.052*\"developer\" + 0.048*\"game\" + 0.034*\"wrong\" + 0.029*\"know\" + 0.027*\"though\" + 0.025*\"story\" + 0.020*\"kill\" + 0.019*\"brazilian\" + 0.017*\"worth\"'),\n",
              " (8,\n",
              "  '0.050*\"game\" + 0.033*\"level\" + 0.031*\"stop\" + 0.028*\"think\" + 0.024*\"may\" + 0.018*\"turn\" + 0.016*\"ban\" + 0.014*\"system\" + 0.014*\"also\" + 0.012*\"map\"'),\n",
              " (7,\n",
              "  '0.110*\"come\" + 0.109*\"card\" + 0.027*\"problem\" + 0.024*\"new\" + 0.023*\"phone\" + 0.023*\"player\" + 0.021*\"get\" + 0.020*\"another\" + 0.019*\"account\" + 0.019*\"effect\"'),\n",
              " (4,\n",
              "  '0.313*\"language\" + 0.201*\"turkish\" + 0.116*\"game\" + 0.109*\"support\" + 0.032*\"option\" + 0.014*\"nice\" + 0.011*\"difficult\" + 0.011*\"missing\" + 0.010*\"want\" + 0.008*\"please\"')]"
            ]
          },
          "metadata": {
            "tags": []
          },
          "execution_count": 39
        }
      ]
    },
    {
      "cell_type": "markdown",
      "metadata": {
        "id": "UgSu9p7wHxM4"
      },
      "source": [
        "LDA gives names of certain languages like russian, indonesian, french, portugese and also words like voice, language, problem. And since the model was build only on negative classified reviews which had only sentences containing keywords about localisation. We can say that the problem is the localisation from or to these languages."
      ]
    },
    {
      "cell_type": "markdown",
      "metadata": {
        "id": "NlFP7vvhPjVl"
      },
      "source": [
        "What else we can try: We can try changing the thresholds for classifying reviews as postive, negative or neutral and see what topics are removed or added to the topics. "
      ]
    }
  ]
}